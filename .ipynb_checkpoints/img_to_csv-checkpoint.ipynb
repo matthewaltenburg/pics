{
 "cells": [
  {
   "cell_type": "markdown",
   "id": "22684b3b-9ec2-4b32-945f-7da4e1f07d82",
   "metadata": {},
   "source": [
    "# Overview\n",
    "The following notebook will import data from AWS S3, look for images (PNG and JPEG) then attempt to label the images for analysis\n",
    "The notebook requires access to \n",
    "* AWS S3\n",
    "* AWS Rekognition\n"
   ]
  },
  {
   "cell_type": "markdown",
   "id": "03c6d2b0-e769-4ef0-977e-c0f872d4711b",
   "metadata": {
    "tags": []
   },
   "source": [
    "## Imports"
   ]
  },
  {
   "cell_type": "code",
   "execution_count": 10,
   "id": "86abdab1-e84f-4179-b888-c05450bbbafc",
   "metadata": {
    "tags": []
   },
   "outputs": [],
   "source": [
    "import base64\n",
    "import csv\n",
    "import io\n",
    "import json\n",
    "import os\n",
    "import pathlib\n",
    "from io import BytesIO\n",
    "\n",
    "import boto3\n",
    "import numpy as np\n",
    "import pandas as pd\n",
    "import requests\n",
    "from IPython.display import HTML, display\n",
    "from PIL import Image\n"
   ]
  },
  {
   "cell_type": "markdown",
   "id": "27dc79a4-3c68-41ed-8ffd-4b8716755b35",
   "metadata": {
    "tags": []
   },
   "source": [
    "## Main Function"
   ]
  },
  {
   "cell_type": "code",
   "execution_count": 5,
   "id": "a85e34fa-f7a9-4b27-b805-3740ba356dbf",
   "metadata": {
    "tags": []
   },
   "outputs": [],
   "source": [
    "def main(bucket):\n",
    "    s3 = boto3.client(\"s3\")\n",
    "    paginator = s3.get_paginator(\"list_objects_v2\")\n",
    "    pages = paginator.paginate(Bucket=bucket, Prefix=\"\")\n",
    "\n",
    "    with open(\"main.csv\", \"w\", newline=\"\") as myfile:\n",
    "        writer = csv.writer(myfile)\n",
    "        # df = pd.DataFrame()\n",
    "        for page in pages:\n",
    "            for obj in page[\"Contents\"]:\n",
    "                file_extension = pathlib.Path(obj[\"Key\"]).suffix\n",
    "                if file_extension == \".jpeg\" or file_extension == \".png\":\n",
    "                    base64 = getbase64(obj, bucket)\n",
    "                    \n",
    "                    \n",
    "                    \n",
    "                    print(\"moving file \" + obj[\"Key\"])\n",
    "                    list = [obj[\"Key\"], base64]\n",
    "\n",
    "                    response = detect_labels(obj[\"Key\"], bucket)\n",
    "                    for label in response[\"Labels\"]:\n",
    "                        list.append(label[\"Name\"])\n",
    "                        list.append(label[\"Confidence\"])\n",
    "                    print(list)\n",
    "                    \n",
    "\n",
    "                    writer.writerow(list)"
   ]
  },
  {
   "cell_type": "markdown",
   "id": "95e071b6-8043-417f-9ae1-009b75576333",
   "metadata": {
    "tags": []
   },
   "source": [
    "## Create Function to Tag Images"
   ]
  },
  {
   "cell_type": "code",
   "execution_count": 6,
   "id": "95cfca21-43d8-47c0-8e79-824c9d5b1624",
   "metadata": {
    "tags": []
   },
   "outputs": [],
   "source": [
    "def detect_labels(photo, bucket):\n",
    "\n",
    "    client = boto3.client(\"rekognition\")\n",
    "\n",
    "    response = client.detect_labels(\n",
    "        Image={\"S3Object\": {\"Bucket\": bucket, \"Name\": photo}}, MaxLabels=10\n",
    "    )\n",
    "\n",
    "    print(\"Detected labels for \" + photo)\n",
    "    print()\n",
    "    for label in response[\"Labels\"]:\n",
    "        print(\"Label: \" + label[\"Name\"])\n",
    "        print(\"Confidence: \" + str(label[\"Confidence\"]))\n",
    "        print(\"Instances:\")\n",
    "        for instance in label[\"Instances\"]:\n",
    "            print(\"  Bounding box\")\n",
    "            print(\"    Top: \" + str(instance[\"BoundingBox\"][\"Top\"]))\n",
    "            print(\"    Left: \" + str(instance[\"BoundingBox\"][\"Left\"]))\n",
    "            print(\"    Width: \" + str(instance[\"BoundingBox\"][\"Width\"]))\n",
    "            print(\"    Height: \" + str(instance[\"BoundingBox\"][\"Height\"]))\n",
    "            print(\"  Confidence: \" + str(instance[\"Confidence\"]))\n",
    "            print()\n",
    "\n",
    "        print(\"Parents:\")\n",
    "        for parent in label[\"Parents\"]:\n",
    "            print(\"   \" + parent[\"Name\"])\n",
    "        print(\"----------\")\n",
    "        print()\n",
    "    return response"
   ]
  },
  {
   "cell_type": "markdown",
   "id": "d924ac72-4253-42a4-8157-8c8ec60bbb7c",
   "metadata": {
    "tags": []
   },
   "source": [
    "## Function to create Base64 strings from images"
   ]
  },
  {
   "cell_type": "code",
   "execution_count": 7,
   "id": "1f00c87e-3a1c-4102-9b40-faaca885a0a5",
   "metadata": {
    "tags": []
   },
   "outputs": [],
   "source": [
    "def getbase64(obj, bucket):\n",
    "    # import file\n",
    "    s3 = boto3.resource(\"s3\")\n",
    "    file = s3.Object(bucket, obj)\n",
    "    file = file.get()\n",
    "    data = file[\"Body\"].read()\n",
    "\n",
    "    # read and resize \n",
    "    img = cv2.imdecode(np.asarray(bytearray(data)), cv2.IMREAD_COLOR)\n",
    "    scale_percent = 10 # percent of original size\n",
    "    width = int(img.shape[1] * scale_percent / 100)\n",
    "    height = int(img.shape[0] * scale_percent / 100)\n",
    "    dim = (width, height)\n",
    "    img = cv2.resize(img, dim, interpolation = cv2.INTER_AREA)\n",
    "    \n",
    "    # to base64\n",
    "    _, buffer_img= cv2.imencode('.jpg', img)\n",
    "    b64 = str(base64.b64encode(buffer_img).decode(\"ascii\"))\n",
    "    \n",
    "    return b64"
   ]
  },
  {
   "cell_type": "markdown",
   "id": "21d442c7-2574-489b-8e7b-6bb17983fbb0",
   "metadata": {},
   "source": [
    "## Run"
   ]
  },
  {
   "cell_type": "code",
   "execution_count": 9,
   "id": "e10b9986-da4d-4d85-a6a9-e1da2f49e455",
   "metadata": {
    "tags": []
   },
   "outputs": [
    {
     "ename": "ParamValidationError",
     "evalue": "Parameter validation failed:\nInvalid type for parameter Key, value: {'Key': \"AA_Enduring Power of Attorney/Working Files/Attorney+General's+Department.png\", 'LastModified': datetime.datetime(2022, 12, 16, 9, 42, 14, tzinfo=tzlocal()), 'ETag': '\"f518f27f7a8f635bd44bbc01226865e9\"', 'Size': 37045, 'StorageClass': 'STANDARD'}, type: <class 'dict'>, valid types: <class 'str'>",
     "output_type": "error",
     "traceback": [
      "\u001b[0;31m---------------------------------------------------------------------------\u001b[0m",
      "\u001b[0;31mParamValidationError\u001b[0m                      Traceback (most recent call last)",
      "Cell \u001b[0;32mIn[9], line 3\u001b[0m\n\u001b[1;32m      1\u001b[0m bucket \u001b[38;5;241m=\u001b[39m \u001b[38;5;124m'\u001b[39m\u001b[38;5;124magd-000001-grpdrv-poc\u001b[39m\u001b[38;5;124m'\u001b[39m\n\u001b[0;32m----> 3\u001b[0m \u001b[43mmain\u001b[49m\u001b[43m(\u001b[49m\u001b[43mbucket\u001b[49m\u001b[43m)\u001b[49m\n",
      "Cell \u001b[0;32mIn[5], line 13\u001b[0m, in \u001b[0;36mmain\u001b[0;34m(bucket)\u001b[0m\n\u001b[1;32m     11\u001b[0m file_extension \u001b[38;5;241m=\u001b[39m pathlib\u001b[38;5;241m.\u001b[39mPath(obj[\u001b[38;5;124m\"\u001b[39m\u001b[38;5;124mKey\u001b[39m\u001b[38;5;124m\"\u001b[39m])\u001b[38;5;241m.\u001b[39msuffix\n\u001b[1;32m     12\u001b[0m \u001b[38;5;28;01mif\u001b[39;00m file_extension \u001b[38;5;241m==\u001b[39m \u001b[38;5;124m\"\u001b[39m\u001b[38;5;124m.jpeg\u001b[39m\u001b[38;5;124m\"\u001b[39m \u001b[38;5;129;01mor\u001b[39;00m file_extension \u001b[38;5;241m==\u001b[39m \u001b[38;5;124m\"\u001b[39m\u001b[38;5;124m.png\u001b[39m\u001b[38;5;124m\"\u001b[39m:\n\u001b[0;32m---> 13\u001b[0m     base64 \u001b[38;5;241m=\u001b[39m \u001b[43mgetbase64\u001b[49m\u001b[43m(\u001b[49m\u001b[43mobj\u001b[49m\u001b[43m,\u001b[49m\u001b[43m \u001b[49m\u001b[43mbucket\u001b[49m\u001b[43m)\u001b[49m\n\u001b[1;32m     14\u001b[0m     \u001b[38;5;66;03m#   print(base64)\u001b[39;00m\n\u001b[1;32m     15\u001b[0m     \u001b[38;5;28mprint\u001b[39m(\u001b[38;5;124m\"\u001b[39m\u001b[38;5;124mmoving file \u001b[39m\u001b[38;5;124m\"\u001b[39m \u001b[38;5;241m+\u001b[39m obj[\u001b[38;5;124m\"\u001b[39m\u001b[38;5;124mKey\u001b[39m\u001b[38;5;124m\"\u001b[39m])\n",
      "Cell \u001b[0;32mIn[7], line 5\u001b[0m, in \u001b[0;36mgetbase64\u001b[0;34m(obj, bucket)\u001b[0m\n\u001b[1;32m      3\u001b[0m s3 \u001b[38;5;241m=\u001b[39m boto3\u001b[38;5;241m.\u001b[39mresource(\u001b[38;5;124m\"\u001b[39m\u001b[38;5;124ms3\u001b[39m\u001b[38;5;124m\"\u001b[39m)\n\u001b[1;32m      4\u001b[0m file \u001b[38;5;241m=\u001b[39m s3\u001b[38;5;241m.\u001b[39mObject(bucket, obj)\n\u001b[0;32m----> 5\u001b[0m file \u001b[38;5;241m=\u001b[39m \u001b[43mfile\u001b[49m\u001b[38;5;241;43m.\u001b[39;49m\u001b[43mget\u001b[49m\u001b[43m(\u001b[49m\u001b[43m)\u001b[49m\n\u001b[1;32m      6\u001b[0m data \u001b[38;5;241m=\u001b[39m file[\u001b[38;5;124m\"\u001b[39m\u001b[38;5;124mBody\u001b[39m\u001b[38;5;124m\"\u001b[39m]\u001b[38;5;241m.\u001b[39mread()\n\u001b[1;32m      8\u001b[0m \u001b[38;5;66;03m# read and resize \u001b[39;00m\n",
      "File \u001b[0;32m/usr/local/lib/python3.10/site-packages/boto3/resources/factory.py:580\u001b[0m, in \u001b[0;36mResourceFactory._create_action.<locals>.do_action\u001b[0;34m(self, *args, **kwargs)\u001b[0m\n\u001b[1;32m    579\u001b[0m \u001b[38;5;28;01mdef\u001b[39;00m \u001b[38;5;21mdo_action\u001b[39m(\u001b[38;5;28mself\u001b[39m, \u001b[38;5;241m*\u001b[39margs, \u001b[38;5;241m*\u001b[39m\u001b[38;5;241m*\u001b[39mkwargs):\n\u001b[0;32m--> 580\u001b[0m     response \u001b[38;5;241m=\u001b[39m \u001b[43maction\u001b[49m\u001b[43m(\u001b[49m\u001b[38;5;28;43mself\u001b[39;49m\u001b[43m,\u001b[49m\u001b[43m \u001b[49m\u001b[38;5;241;43m*\u001b[39;49m\u001b[43margs\u001b[49m\u001b[43m,\u001b[49m\u001b[43m \u001b[49m\u001b[38;5;241;43m*\u001b[39;49m\u001b[38;5;241;43m*\u001b[39;49m\u001b[43mkwargs\u001b[49m\u001b[43m)\u001b[49m\n\u001b[1;32m    582\u001b[0m     \u001b[38;5;28;01mif\u001b[39;00m \u001b[38;5;28mhasattr\u001b[39m(\u001b[38;5;28mself\u001b[39m, \u001b[38;5;124m'\u001b[39m\u001b[38;5;124mload\u001b[39m\u001b[38;5;124m'\u001b[39m):\n\u001b[1;32m    583\u001b[0m         \u001b[38;5;66;03m# Clear cached data. It will be reloaded the next\u001b[39;00m\n\u001b[1;32m    584\u001b[0m         \u001b[38;5;66;03m# time that an attribute is accessed.\u001b[39;00m\n\u001b[1;32m    585\u001b[0m         \u001b[38;5;66;03m# TODO: Make this configurable in the future?\u001b[39;00m\n\u001b[1;32m    586\u001b[0m         \u001b[38;5;28mself\u001b[39m\u001b[38;5;241m.\u001b[39mmeta\u001b[38;5;241m.\u001b[39mdata \u001b[38;5;241m=\u001b[39m \u001b[38;5;28;01mNone\u001b[39;00m\n",
      "File \u001b[0;32m/usr/local/lib/python3.10/site-packages/boto3/resources/action.py:88\u001b[0m, in \u001b[0;36mServiceAction.__call__\u001b[0;34m(self, parent, *args, **kwargs)\u001b[0m\n\u001b[1;32m     79\u001b[0m params\u001b[38;5;241m.\u001b[39mupdate(kwargs)\n\u001b[1;32m     81\u001b[0m logger\u001b[38;5;241m.\u001b[39mdebug(\n\u001b[1;32m     82\u001b[0m     \u001b[38;5;124m'\u001b[39m\u001b[38;5;124mCalling \u001b[39m\u001b[38;5;132;01m%s\u001b[39;00m\u001b[38;5;124m:\u001b[39m\u001b[38;5;132;01m%s\u001b[39;00m\u001b[38;5;124m with \u001b[39m\u001b[38;5;132;01m%r\u001b[39;00m\u001b[38;5;124m'\u001b[39m,\n\u001b[1;32m     83\u001b[0m     parent\u001b[38;5;241m.\u001b[39mmeta\u001b[38;5;241m.\u001b[39mservice_name,\n\u001b[1;32m     84\u001b[0m     operation_name,\n\u001b[1;32m     85\u001b[0m     params,\n\u001b[1;32m     86\u001b[0m )\n\u001b[0;32m---> 88\u001b[0m response \u001b[38;5;241m=\u001b[39m \u001b[38;5;28;43mgetattr\u001b[39;49m\u001b[43m(\u001b[49m\u001b[43mparent\u001b[49m\u001b[38;5;241;43m.\u001b[39;49m\u001b[43mmeta\u001b[49m\u001b[38;5;241;43m.\u001b[39;49m\u001b[43mclient\u001b[49m\u001b[43m,\u001b[49m\u001b[43m \u001b[49m\u001b[43moperation_name\u001b[49m\u001b[43m)\u001b[49m\u001b[43m(\u001b[49m\u001b[38;5;241;43m*\u001b[39;49m\u001b[43margs\u001b[49m\u001b[43m,\u001b[49m\u001b[43m \u001b[49m\u001b[38;5;241;43m*\u001b[39;49m\u001b[38;5;241;43m*\u001b[39;49m\u001b[43mparams\u001b[49m\u001b[43m)\u001b[49m\n\u001b[1;32m     90\u001b[0m logger\u001b[38;5;241m.\u001b[39mdebug(\u001b[38;5;124m'\u001b[39m\u001b[38;5;124mResponse: \u001b[39m\u001b[38;5;132;01m%r\u001b[39;00m\u001b[38;5;124m'\u001b[39m, response)\n\u001b[1;32m     92\u001b[0m \u001b[38;5;28;01mreturn\u001b[39;00m \u001b[38;5;28mself\u001b[39m\u001b[38;5;241m.\u001b[39m_response_handler(parent, params, response)\n",
      "File \u001b[0;32m/usr/local/lib/python3.10/site-packages/botocore/client.py:530\u001b[0m, in \u001b[0;36mClientCreator._create_api_method.<locals>._api_call\u001b[0;34m(self, *args, **kwargs)\u001b[0m\n\u001b[1;32m    526\u001b[0m     \u001b[38;5;28;01mraise\u001b[39;00m \u001b[38;5;167;01mTypeError\u001b[39;00m(\n\u001b[1;32m    527\u001b[0m         \u001b[38;5;124mf\u001b[39m\u001b[38;5;124m\"\u001b[39m\u001b[38;5;132;01m{\u001b[39;00mpy_operation_name\u001b[38;5;132;01m}\u001b[39;00m\u001b[38;5;124m() only accepts keyword arguments.\u001b[39m\u001b[38;5;124m\"\u001b[39m\n\u001b[1;32m    528\u001b[0m     )\n\u001b[1;32m    529\u001b[0m \u001b[38;5;66;03m# The \"self\" in this scope is referring to the BaseClient.\u001b[39;00m\n\u001b[0;32m--> 530\u001b[0m \u001b[38;5;28;01mreturn\u001b[39;00m \u001b[38;5;28;43mself\u001b[39;49m\u001b[38;5;241;43m.\u001b[39;49m\u001b[43m_make_api_call\u001b[49m\u001b[43m(\u001b[49m\u001b[43moperation_name\u001b[49m\u001b[43m,\u001b[49m\u001b[43m \u001b[49m\u001b[43mkwargs\u001b[49m\u001b[43m)\u001b[49m\n",
      "File \u001b[0;32m/usr/local/lib/python3.10/site-packages/botocore/client.py:919\u001b[0m, in \u001b[0;36mBaseClient._make_api_call\u001b[0;34m(self, operation_name, api_params)\u001b[0m\n\u001b[1;32m    910\u001b[0m request_context \u001b[38;5;241m=\u001b[39m {\n\u001b[1;32m    911\u001b[0m     \u001b[38;5;124m'\u001b[39m\u001b[38;5;124mclient_region\u001b[39m\u001b[38;5;124m'\u001b[39m: \u001b[38;5;28mself\u001b[39m\u001b[38;5;241m.\u001b[39mmeta\u001b[38;5;241m.\u001b[39mregion_name,\n\u001b[1;32m    912\u001b[0m     \u001b[38;5;124m'\u001b[39m\u001b[38;5;124mclient_config\u001b[39m\u001b[38;5;124m'\u001b[39m: \u001b[38;5;28mself\u001b[39m\u001b[38;5;241m.\u001b[39mmeta\u001b[38;5;241m.\u001b[39mconfig,\n\u001b[1;32m    913\u001b[0m     \u001b[38;5;124m'\u001b[39m\u001b[38;5;124mhas_streaming_input\u001b[39m\u001b[38;5;124m'\u001b[39m: operation_model\u001b[38;5;241m.\u001b[39mhas_streaming_input,\n\u001b[1;32m    914\u001b[0m     \u001b[38;5;124m'\u001b[39m\u001b[38;5;124mauth_type\u001b[39m\u001b[38;5;124m'\u001b[39m: operation_model\u001b[38;5;241m.\u001b[39mauth_type,\n\u001b[1;32m    915\u001b[0m }\n\u001b[1;32m    916\u001b[0m endpoint_url, additional_headers \u001b[38;5;241m=\u001b[39m \u001b[38;5;28mself\u001b[39m\u001b[38;5;241m.\u001b[39m_resolve_endpoint_ruleset(\n\u001b[1;32m    917\u001b[0m     operation_model, api_params, request_context\n\u001b[1;32m    918\u001b[0m )\n\u001b[0;32m--> 919\u001b[0m request_dict \u001b[38;5;241m=\u001b[39m \u001b[38;5;28;43mself\u001b[39;49m\u001b[38;5;241;43m.\u001b[39;49m\u001b[43m_convert_to_request_dict\u001b[49m\u001b[43m(\u001b[49m\n\u001b[1;32m    920\u001b[0m \u001b[43m    \u001b[49m\u001b[43mapi_params\u001b[49m\u001b[38;5;241;43m=\u001b[39;49m\u001b[43mapi_params\u001b[49m\u001b[43m,\u001b[49m\n\u001b[1;32m    921\u001b[0m \u001b[43m    \u001b[49m\u001b[43moperation_model\u001b[49m\u001b[38;5;241;43m=\u001b[39;49m\u001b[43moperation_model\u001b[49m\u001b[43m,\u001b[49m\n\u001b[1;32m    922\u001b[0m \u001b[43m    \u001b[49m\u001b[43mendpoint_url\u001b[49m\u001b[38;5;241;43m=\u001b[39;49m\u001b[43mendpoint_url\u001b[49m\u001b[43m,\u001b[49m\n\u001b[1;32m    923\u001b[0m \u001b[43m    \u001b[49m\u001b[43mcontext\u001b[49m\u001b[38;5;241;43m=\u001b[39;49m\u001b[43mrequest_context\u001b[49m\u001b[43m,\u001b[49m\n\u001b[1;32m    924\u001b[0m \u001b[43m    \u001b[49m\u001b[43mheaders\u001b[49m\u001b[38;5;241;43m=\u001b[39;49m\u001b[43madditional_headers\u001b[49m\u001b[43m,\u001b[49m\n\u001b[1;32m    925\u001b[0m \u001b[43m\u001b[49m\u001b[43m)\u001b[49m\n\u001b[1;32m    926\u001b[0m resolve_checksum_context(request_dict, operation_model, api_params)\n\u001b[1;32m    928\u001b[0m service_id \u001b[38;5;241m=\u001b[39m \u001b[38;5;28mself\u001b[39m\u001b[38;5;241m.\u001b[39m_service_model\u001b[38;5;241m.\u001b[39mservice_id\u001b[38;5;241m.\u001b[39mhyphenize()\n",
      "File \u001b[0;32m/usr/local/lib/python3.10/site-packages/botocore/client.py:990\u001b[0m, in \u001b[0;36mBaseClient._convert_to_request_dict\u001b[0;34m(self, api_params, operation_model, endpoint_url, context, headers, set_user_agent_header)\u001b[0m\n\u001b[1;32m    978\u001b[0m \u001b[38;5;28;01mdef\u001b[39;00m \u001b[38;5;21m_convert_to_request_dict\u001b[39m(\n\u001b[1;32m    979\u001b[0m     \u001b[38;5;28mself\u001b[39m,\n\u001b[1;32m    980\u001b[0m     api_params,\n\u001b[0;32m   (...)\u001b[0m\n\u001b[1;32m    985\u001b[0m     set_user_agent_header\u001b[38;5;241m=\u001b[39m\u001b[38;5;28;01mTrue\u001b[39;00m,\n\u001b[1;32m    986\u001b[0m ):\n\u001b[1;32m    987\u001b[0m     api_params \u001b[38;5;241m=\u001b[39m \u001b[38;5;28mself\u001b[39m\u001b[38;5;241m.\u001b[39m_emit_api_params(\n\u001b[1;32m    988\u001b[0m         api_params, operation_model, context\n\u001b[1;32m    989\u001b[0m     )\n\u001b[0;32m--> 990\u001b[0m     request_dict \u001b[38;5;241m=\u001b[39m \u001b[38;5;28;43mself\u001b[39;49m\u001b[38;5;241;43m.\u001b[39;49m\u001b[43m_serializer\u001b[49m\u001b[38;5;241;43m.\u001b[39;49m\u001b[43mserialize_to_request\u001b[49m\u001b[43m(\u001b[49m\n\u001b[1;32m    991\u001b[0m \u001b[43m        \u001b[49m\u001b[43mapi_params\u001b[49m\u001b[43m,\u001b[49m\u001b[43m \u001b[49m\u001b[43moperation_model\u001b[49m\n\u001b[1;32m    992\u001b[0m \u001b[43m    \u001b[49m\u001b[43m)\u001b[49m\n\u001b[1;32m    993\u001b[0m     \u001b[38;5;28;01mif\u001b[39;00m \u001b[38;5;129;01mnot\u001b[39;00m \u001b[38;5;28mself\u001b[39m\u001b[38;5;241m.\u001b[39m_client_config\u001b[38;5;241m.\u001b[39minject_host_prefix:\n\u001b[1;32m    994\u001b[0m         request_dict\u001b[38;5;241m.\u001b[39mpop(\u001b[38;5;124m'\u001b[39m\u001b[38;5;124mhost_prefix\u001b[39m\u001b[38;5;124m'\u001b[39m, \u001b[38;5;28;01mNone\u001b[39;00m)\n",
      "File \u001b[0;32m/usr/local/lib/python3.10/site-packages/botocore/validate.py:381\u001b[0m, in \u001b[0;36mParamValidationDecorator.serialize_to_request\u001b[0;34m(self, parameters, operation_model)\u001b[0m\n\u001b[1;32m    377\u001b[0m     report \u001b[38;5;241m=\u001b[39m \u001b[38;5;28mself\u001b[39m\u001b[38;5;241m.\u001b[39m_param_validator\u001b[38;5;241m.\u001b[39mvalidate(\n\u001b[1;32m    378\u001b[0m         parameters, operation_model\u001b[38;5;241m.\u001b[39minput_shape\n\u001b[1;32m    379\u001b[0m     )\n\u001b[1;32m    380\u001b[0m     \u001b[38;5;28;01mif\u001b[39;00m report\u001b[38;5;241m.\u001b[39mhas_errors():\n\u001b[0;32m--> 381\u001b[0m         \u001b[38;5;28;01mraise\u001b[39;00m ParamValidationError(report\u001b[38;5;241m=\u001b[39mreport\u001b[38;5;241m.\u001b[39mgenerate_report())\n\u001b[1;32m    382\u001b[0m \u001b[38;5;28;01mreturn\u001b[39;00m \u001b[38;5;28mself\u001b[39m\u001b[38;5;241m.\u001b[39m_serializer\u001b[38;5;241m.\u001b[39mserialize_to_request(\n\u001b[1;32m    383\u001b[0m     parameters, operation_model\n\u001b[1;32m    384\u001b[0m )\n",
      "\u001b[0;31mParamValidationError\u001b[0m: Parameter validation failed:\nInvalid type for parameter Key, value: {'Key': \"AA_Enduring Power of Attorney/Working Files/Attorney+General's+Department.png\", 'LastModified': datetime.datetime(2022, 12, 16, 9, 42, 14, tzinfo=tzlocal()), 'ETag': '\"f518f27f7a8f635bd44bbc01226865e9\"', 'Size': 37045, 'StorageClass': 'STANDARD'}, type: <class 'dict'>, valid types: <class 'str'>"
     ]
    }
   ],
   "source": [
    "bucket = 'agd-000001-grpdrv-poc'\n",
    "\n",
    "main(bucket)"
   ]
  },
  {
   "cell_type": "code",
   "execution_count": null,
   "id": "eabb2988-e21f-4fa3-becd-7a859bbf5921",
   "metadata": {},
   "outputs": [],
   "source": []
  }
 ],
 "metadata": {
  "instance_type": "ml.t3.medium",
  "kernelspec": {
   "display_name": "Python 3 (Base Python 3.0)",
   "language": "python",
   "name": "python3__SAGEMAKER_INTERNAL__arn:aws:sagemaker:ap-southeast-2:452832661640:image/sagemaker-base-python-310-v1"
  },
  "language_info": {
   "codemirror_mode": {
    "name": "ipython",
    "version": 3
   },
   "file_extension": ".py",
   "mimetype": "text/x-python",
   "name": "python",
   "nbconvert_exporter": "python",
   "pygments_lexer": "ipython3",
   "version": "3.10.8"
  },
  "lcc_arn": "arn:aws:sagemaker:ap-southeast-2:431551217392:studio-lifecycle-config/kernalsetup"
 },
 "nbformat": 4,
 "nbformat_minor": 5
}
