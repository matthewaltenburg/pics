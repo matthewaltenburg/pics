{
 "cells": [
  {
   "cell_type": "markdown",
   "id": "22684b3b-9ec2-4b32-945f-7da4e1f07d82",
   "metadata": {},
   "source": [
    "# Overview\n",
    "The following notebook will import data from AWS S3, look for images (PNG and JPEG) then attempt to label the images for analysis\n",
    "The notebook requires access to \n",
    "* AWS S3\n",
    "* AWS Rekognition\n"
   ]
  },
  {
   "cell_type": "markdown",
   "id": "03c6d2b0-e769-4ef0-977e-c0f872d4711b",
   "metadata": {},
   "source": [
    "## Import"
   ]
  },
  {
   "cell_type": "code",
   "execution_count": 60,
   "id": "86abdab1-e84f-4179-b888-c05450bbbafc",
   "metadata": {
    "tags": []
   },
   "outputs": [],
   "source": [
    "import base64\n",
    "import csv\n",
    "import io\n",
    "import json\n",
    "import os\n",
    "import pathlib\n",
    "from io import BytesIO\n",
    "\n",
    "import boto3\n",
    "import numpy as np\n",
    "import pandas as pd\n",
    "import requests\n",
    "from IPython.display import HTML, display\n",
    "from PIL import Image"
   ]
  },
  {
   "cell_type": "markdown",
   "id": "95e071b6-8043-417f-9ae1-009b75576333",
   "metadata": {},
   "source": [
    "## Create Function to Tag Images"
   ]
  },
  {
   "cell_type": "code",
   "execution_count": 63,
   "id": "95cfca21-43d8-47c0-8e79-824c9d5b1624",
   "metadata": {
    "tags": []
   },
   "outputs": [],
   "source": [
    "def detect_labels(photo, bucket):\n",
    "\n",
    "    client = boto3.client(\"rekognition\")\n",
    "\n",
    "    response = client.detect_labels(\n",
    "        Image={\"S3Object\": {\"Bucket\": bucket, \"Name\": photo}}, MaxLabels=10\n",
    "    )\n",
    "\n",
    "    print(\"Detected labels for \" + photo)\n",
    "    print()\n",
    "    for label in response[\"Labels\"]:\n",
    "        print(\"Label: \" + label[\"Name\"])\n",
    "        print(\"Confidence: \" + str(label[\"Confidence\"]))\n",
    "        print(\"Instances:\")\n",
    "        for instance in label[\"Instances\"]:\n",
    "            print(\"  Bounding box\")\n",
    "            print(\"    Top: \" + str(instance[\"BoundingBox\"][\"Top\"]))\n",
    "            print(\"    Left: \" + str(instance[\"BoundingBox\"][\"Left\"]))\n",
    "            print(\"    Width: \" + str(instance[\"BoundingBox\"][\"Width\"]))\n",
    "            print(\"    Height: \" + str(instance[\"BoundingBox\"][\"Height\"]))\n",
    "            print(\"  Confidence: \" + str(instance[\"Confidence\"]))\n",
    "            print()\n",
    "\n",
    "        print(\"Parents:\")\n",
    "        for parent in label[\"Parents\"]:\n",
    "            print(\"   \" + parent[\"Name\"])\n",
    "        print(\"----------\")\n",
    "        print()\n",
    "    return response"
   ]
  },
  {
   "cell_type": "markdown",
   "id": "d924ac72-4253-42a4-8157-8c8ec60bbb7c",
   "metadata": {},
   "source": [
    "## Function to create Base64 strings from images"
   ]
  },
  {
   "cell_type": "code",
   "execution_count": 2,
   "id": "1f00c87e-3a1c-4102-9b40-faaca885a0a5",
   "metadata": {
    "tags": []
   },
   "outputs": [],
   "source": [
    "def getbase64(obj, bucket):\n",
    "    # import file\n",
    "    s3 = boto3.resource(\"s3\")\n",
    "    file = s3.Object(bucket, obj)\n",
    "    file = file.get()\n",
    "    data = file[\"Body\"].read()\n",
    "\n",
    "    # read and resize \n",
    "    img = cv2.imdecode(np.asarray(bytearray(data)), cv2.IMREAD_COLOR)\n",
    "    scale_percent = 10 # percent of original size\n",
    "    width = int(img.shape[1] * scale_percent / 100)\n",
    "    height = int(img.shape[0] * scale_percent / 100)\n",
    "    dim = (width, height)\n",
    "    img = cv2.resize(img, dim, interpolation = cv2.INTER_AREA)\n",
    "    \n",
    "    # to base64\n",
    "    _, buffer_img= cv2.imencode('.jpg', img)\n",
    "    b64 = str(base64.b64encode(buffer_img).decode(\"ascii\"))\n",
    "    \n",
    "    return b64"
   ]
  },
  {
   "cell_type": "markdown",
   "id": "8dab1816-bedf-4372-9e04-ac75bc887b03",
   "metadata": {},
   "source": [
    "## Define the location of AWS S3 to us"
   ]
  },
  {
   "cell_type": "code",
   "execution_count": null,
   "id": "27b49326-e159-4098-ba1d-0f2ba996217b",
   "metadata": {
    "tags": []
   },
   "outputs": [],
   "source": [
    "source_bucketname = \"cemf-suan\"\n",
    "dest_bucketname = \"sbbridledestbucket\""
   ]
  },
  {
   "cell_type": "markdown",
   "id": "c772907b-97ee-48dc-bce0-afef4d44f5c3",
   "metadata": {},
   "source": [
    "Function for getting AWS S3 objects and processing"
   ]
  },
  {
   "cell_type": "code",
   "execution_count": null,
   "id": "16aab13d-9af7-41a0-9358-6ece4a648241",
   "metadata": {
    "tags": []
   },
   "outputs": [],
   "source": [
    "def list_s3_files(bucket, dest_bucket):\n",
    "    s3 = boto3.client(\"s3\")\n",
    "    paginator = s3.get_paginator(\"list_objects_v2\")\n",
    "    pages = paginator.paginate(Bucket=bucket, Prefix=\"\")\n",
    "    with open(\"filetags.csv\", \"w\", newline=\"\") as myfile:\n",
    "        writer = csv.writer(myfile)\n",
    "        # df = pd.DataFrame()\n",
    "        for page in pages:\n",
    "            for obj in page[\"Contents\"]:\n",
    "                file_extension = pathlib.Path(obj[\"Key\"]).suffix\n",
    "                if file_extension == \".jpeg\" or file_extension == \".png\":\n",
    "                    base64 = getbase64(obj, bucket)\n",
    "                    #   print(base64)\n",
    "                    print(\"moving file \" + obj[\"Key\"])\n",
    "                    list = [obj[\"Key\"], base64]\n",
    "                    # s3copy(obj['Key'], bucket, dest_bucket)\n",
    "                    # copy has been commented out for the moment\n",
    "                    response = detect_labels(obj[\"Key\"], bucket)\n",
    "                    for label in response[\"Labels\"]:\n",
    "                        list.append(label[\"Name\"])\n",
    "                        list.append(label[\"Confidence\"])\n",
    "                    print(list)\n",
    "                    writer.writerow(list)"
   ]
  },
  {
   "cell_type": "code",
   "execution_count": null,
   "id": "b324fbec-de48-4d98-a033-cec9a3eea7a3",
   "metadata": {
    "tags": []
   },
   "outputs": [],
   "source": [
    "list_s3_files(source_bucketname, dest_bucketname)"
   ]
  },
  {
   "cell_type": "code",
   "execution_count": 62,
   "id": "0d47a6b1-0964-45e2-8875-552b523bfeda",
   "metadata": {
    "tags": []
   },
   "outputs": [
    {
     "data": {
      "text/html": [
       "<div>\n",
       "<style scoped>\n",
       "    .dataframe tbody tr th:only-of-type {\n",
       "        vertical-align: middle;\n",
       "    }\n",
       "\n",
       "    .dataframe tbody tr th {\n",
       "        vertical-align: top;\n",
       "    }\n",
       "\n",
       "    .dataframe thead th {\n",
       "        text-align: right;\n",
       "    }\n",
       "</style>\n",
       "<table border=\"1\" class=\"dataframe\">\n",
       "  <thead>\n",
       "    <tr style=\"text-align: right;\">\n",
       "      <th></th>\n",
       "      <th>0</th>\n",
       "      <th>1</th>\n",
       "      <th>2</th>\n",
       "      <th>3</th>\n",
       "      <th>4</th>\n",
       "      <th>5</th>\n",
       "      <th>6</th>\n",
       "      <th>7</th>\n",
       "      <th>8</th>\n",
       "      <th>9</th>\n",
       "      <th>...</th>\n",
       "      <th>12</th>\n",
       "      <th>13</th>\n",
       "      <th>14</th>\n",
       "      <th>15</th>\n",
       "      <th>16</th>\n",
       "      <th>17</th>\n",
       "      <th>18</th>\n",
       "      <th>19</th>\n",
       "      <th>20</th>\n",
       "      <th>21</th>\n",
       "    </tr>\n",
       "  </thead>\n",
       "  <tbody>\n",
       "    <tr>\n",
       "      <th>0</th>\n",
       "      <td>download (1).jpeg</td>\n",
       "      <td>b'/9j/4AAQSkZJRgABAQAAAQABAAD/2wCEAAoHCBYWFRgW...</td>\n",
       "      <td>Puppy</td>\n",
       "      <td>99.878677</td>\n",
       "      <td>Dog</td>\n",
       "      <td>99.878677</td>\n",
       "      <td>Mammal</td>\n",
       "      <td>99.878677</td>\n",
       "      <td>Canine</td>\n",
       "      <td>99.878677</td>\n",
       "      <td>...</td>\n",
       "      <td>Pet</td>\n",
       "      <td>99.878677</td>\n",
       "      <td>Labrador Retriever</td>\n",
       "      <td>96.055397</td>\n",
       "      <td>Kangaroo</td>\n",
       "      <td>69.639275</td>\n",
       "      <td>Wood</td>\n",
       "      <td>57.515480</td>\n",
       "      <td>Panther</td>\n",
       "      <td>57.510830</td>\n",
       "    </tr>\n",
       "    <tr>\n",
       "      <th>1</th>\n",
       "      <td>download (2).jpeg</td>\n",
       "      <td>b'/9j/4AAQSkZJRgABAQAAAQABAAD/2wCEAAoHCBUVFRgW...</td>\n",
       "      <td>Kangaroo</td>\n",
       "      <td>79.141579</td>\n",
       "      <td>Animal</td>\n",
       "      <td>79.141579</td>\n",
       "      <td>Mammal</td>\n",
       "      <td>79.141579</td>\n",
       "      <td>Rodent</td>\n",
       "      <td>67.135056</td>\n",
       "      <td>...</td>\n",
       "      <td>Bird</td>\n",
       "      <td>57.850574</td>\n",
       "      <td>Squirrel</td>\n",
       "      <td>56.678795</td>\n",
       "      <td>Wire</td>\n",
       "      <td>56.496326</td>\n",
       "      <td>Sparrow</td>\n",
       "      <td>55.198532</td>\n",
       "      <td>NaN</td>\n",
       "      <td>NaN</td>\n",
       "    </tr>\n",
       "    <tr>\n",
       "      <th>2</th>\n",
       "      <td>download.jpeg</td>\n",
       "      <td>b'/9j/4AAQSkZJRgABAQAAAQABAAD/2wCEAAkGBxITEhUS...</td>\n",
       "      <td>Dynamite</td>\n",
       "      <td>71.098000</td>\n",
       "      <td>Weapon</td>\n",
       "      <td>71.098000</td>\n",
       "      <td>Food</td>\n",
       "      <td>64.390114</td>\n",
       "      <td>Game</td>\n",
       "      <td>62.355255</td>\n",
       "      <td>...</td>\n",
       "      <td>Gum</td>\n",
       "      <td>55.997955</td>\n",
       "      <td>Super Mario</td>\n",
       "      <td>55.933823</td>\n",
       "      <td>NaN</td>\n",
       "      <td>NaN</td>\n",
       "      <td>NaN</td>\n",
       "      <td>NaN</td>\n",
       "      <td>NaN</td>\n",
       "      <td>NaN</td>\n",
       "    </tr>\n",
       "    <tr>\n",
       "      <th>3</th>\n",
       "      <td>images.jpeg</td>\n",
       "      <td>b'/9j/4AAQSkZJRgABAQAAAQABAAD/2wCEAAkGBxMSEhUS...</td>\n",
       "      <td>Suv</td>\n",
       "      <td>99.987778</td>\n",
       "      <td>Vehicle</td>\n",
       "      <td>99.987778</td>\n",
       "      <td>Car</td>\n",
       "      <td>99.987778</td>\n",
       "      <td>Transportation</td>\n",
       "      <td>99.987778</td>\n",
       "      <td>...</td>\n",
       "      <td>Alloy Wheel</td>\n",
       "      <td>57.570053</td>\n",
       "      <td>Spoke</td>\n",
       "      <td>57.570053</td>\n",
       "      <td>Wheel</td>\n",
       "      <td>57.570053</td>\n",
       "      <td>Machine</td>\n",
       "      <td>57.570053</td>\n",
       "      <td>Sedan</td>\n",
       "      <td>56.736477</td>\n",
       "    </tr>\n",
       "  </tbody>\n",
       "</table>\n",
       "<p>4 rows × 22 columns</p>\n",
       "</div>"
      ],
      "text/plain": [
       "                  0                                                  1   \\\n",
       "0  download (1).jpeg  b'/9j/4AAQSkZJRgABAQAAAQABAAD/2wCEAAoHCBYWFRgW...   \n",
       "1  download (2).jpeg  b'/9j/4AAQSkZJRgABAQAAAQABAAD/2wCEAAoHCBUVFRgW...   \n",
       "2      download.jpeg  b'/9j/4AAQSkZJRgABAQAAAQABAAD/2wCEAAkGBxITEhUS...   \n",
       "3        images.jpeg  b'/9j/4AAQSkZJRgABAQAAAQABAAD/2wCEAAkGBxMSEhUS...   \n",
       "\n",
       "         2          3        4          5       6          7               8   \\\n",
       "0     Puppy  99.878677      Dog  99.878677  Mammal  99.878677          Canine   \n",
       "1  Kangaroo  79.141579   Animal  79.141579  Mammal  79.141579          Rodent   \n",
       "2  Dynamite  71.098000   Weapon  71.098000    Food  64.390114            Game   \n",
       "3       Suv  99.987778  Vehicle  99.987778     Car  99.987778  Transportation   \n",
       "\n",
       "          9   ...           12         13                  14         15  \\\n",
       "0  99.878677  ...          Pet  99.878677  Labrador Retriever  96.055397   \n",
       "1  67.135056  ...         Bird  57.850574            Squirrel  56.678795   \n",
       "2  62.355255  ...          Gum  55.997955         Super Mario  55.933823   \n",
       "3  99.987778  ...  Alloy Wheel  57.570053               Spoke  57.570053   \n",
       "\n",
       "         16         17       18         19       20         21  \n",
       "0  Kangaroo  69.639275     Wood  57.515480  Panther  57.510830  \n",
       "1      Wire  56.496326  Sparrow  55.198532      NaN        NaN  \n",
       "2       NaN        NaN      NaN        NaN      NaN        NaN  \n",
       "3     Wheel  57.570053  Machine  57.570053    Sedan  56.736477  \n",
       "\n",
       "[4 rows x 22 columns]"
      ]
     },
     "metadata": {},
     "output_type": "display_data"
    }
   ],
   "source": [
    "df = pd.read_csv(\"filetags.csv\", header=None)\n",
    "display(df)"
   ]
  },
  {
   "cell_type": "code",
   "execution_count": null,
   "id": "5b591fc2-158a-43be-b281-524c960bc030",
   "metadata": {},
   "outputs": [],
   "source": []
  }
 ],
 "metadata": {
  "instance_type": "ml.t3.medium",
  "kernelspec": {
   "display_name": "Python 3 (Base Python 3.0)",
   "language": "python",
   "name": "python3__SAGEMAKER_INTERNAL__arn:aws:sagemaker:ap-southeast-2:452832661640:image/sagemaker-base-python-310-v1"
  },
  "language_info": {
   "codemirror_mode": {
    "name": "ipython",
    "version": 3
   },
   "file_extension": ".py",
   "mimetype": "text/x-python",
   "name": "python",
   "nbconvert_exporter": "python",
   "pygments_lexer": "ipython3",
   "version": "3.10.8"
  },
  "lcc_arn": "arn:aws:sagemaker:ap-southeast-2:431551217392:studio-lifecycle-config/kernalsetup"
 },
 "nbformat": 4,
 "nbformat_minor": 5
}
