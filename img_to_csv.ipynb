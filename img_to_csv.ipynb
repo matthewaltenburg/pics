{
 "cells": [
  {
   "cell_type": "markdown",
   "id": "22684b3b-9ec2-4b32-945f-7da4e1f07d82",
   "metadata": {},
   "source": [
    "# Overview\n",
    "The following notebook will import data from AWS S3, look for images (PNG and JPEG) then attempt to label the images for analysis\n",
    "The notebook requires access to \n",
    "* AWS S3\n",
    "* AWS Rekognition\n"
   ]
  },
  {
   "cell_type": "markdown",
   "id": "03c6d2b0-e769-4ef0-977e-c0f872d4711b",
   "metadata": {
    "tags": []
   },
   "source": [
    "## Imports"
   ]
  },
  {
   "cell_type": "code",
   "execution_count": 2,
   "id": "86abdab1-e84f-4179-b888-c05450bbbafc",
   "metadata": {
    "tags": []
   },
   "outputs": [],
   "source": [
    "import base64\n",
    "import csv\n",
    "import io\n",
    "import json\n",
    "import os\n",
    "import pathlib\n",
    "from io import BytesIO\n",
    "import cv2\n",
    "\n",
    "import boto3\n",
    "import numpy as np\n",
    "import pandas as pd\n",
    "import requests\n",
    "from IPython.display import HTML, display"
   ]
  },
  {
   "cell_type": "markdown",
   "id": "27dc79a4-3c68-41ed-8ffd-4b8716755b35",
   "metadata": {
    "tags": []
   },
   "source": [
    "## Main Function"
   ]
  },
  {
   "cell_type": "code",
   "execution_count": 3,
   "id": "a85e34fa-f7a9-4b27-b805-3740ba356dbf",
   "metadata": {
    "tags": []
   },
   "outputs": [],
   "source": [
    "def main(bucket):\n",
    "    s3 = boto3.client(\"s3\")\n",
    "    paginator = s3.get_paginator(\"list_objects_v2\")\n",
    "    pages = paginator.paginate(Bucket=bucket, Prefix=\"\")\n",
    "\n",
    "    # with open(\"main.csv\", \"a\", newline=\"\") as myfile:\n",
    "    #     writer = csv.writer(myfile)\n",
    "        \n",
    "    # Loop thour all pages\n",
    "    total = 0\n",
    "    for j, page in enumerate(pages):\n",
    "        print(j)\n",
    "        for obj in page[\"Contents\"]:\n",
    "            try:\n",
    "                with open(\"main.csv\", \"a\", newline=\"\") as myfile:\n",
    "                    writer = csv.writer(myfile)\n",
    "\n",
    "                    file_extension = pathlib.Path(obj[\"Key\"]).suffix\n",
    "                    if file_extension.casefold() == \".jpeg\" or file_extension.casefold() == \".png\":\n",
    "                        total += 1\n",
    "                        \n",
    "                        base64 = getbase64(obj[\"Key\"], bucket)\n",
    "                        \n",
    "                        list = [obj[\"Key\"], obj[\"ETag\"], base64]\n",
    "                        \n",
    "                        response = detect_labels(obj[\"Key\"], bucket)\n",
    "                        for i, label in enumerate(response[\"Labels\"]):\n",
    "                            if (i <=4):\n",
    "                                list.append(label[\"Name\"])\n",
    "                                list.append(label[\"Confidence\"])\n",
    "                        writer.writerow(list)\n",
    "            except:\n",
    "                print(\"File Skipped due to error\")\n",
    "        print(f'total images {total}')"
   ]
  },
  {
   "cell_type": "markdown",
   "id": "95e071b6-8043-417f-9ae1-009b75576333",
   "metadata": {
    "tags": []
   },
   "source": [
    "## Create Function to Tag Images"
   ]
  },
  {
   "cell_type": "code",
   "execution_count": 4,
   "id": "95cfca21-43d8-47c0-8e79-824c9d5b1624",
   "metadata": {
    "tags": []
   },
   "outputs": [],
   "source": [
    "def detect_labels(photo, bucket):\n",
    "\n",
    "    client = boto3.client(\"rekognition\")\n",
    "\n",
    "    response = client.detect_labels(\n",
    "        Image={\"S3Object\": {\"Bucket\": bucket, \"Name\": photo}}, MaxLabels=10\n",
    "    )\n",
    "\n",
    "#     print(\"Detected labels for \" + photo)\n",
    "#     print()\n",
    "#     for label in response[\"Labels\"]:\n",
    "#         print(\"Label: \" + label[\"Name\"])\n",
    "#         print(\"Confidence: \" + str(label[\"Confidence\"]))\n",
    "#         print(\"Instances:\")\n",
    "#         for instance in label[\"Instances\"]:\n",
    "#             print(\"  Bounding box\")\n",
    "#             print(\"    Top: \" + str(instance[\"BoundingBox\"][\"Top\"]))\n",
    "#             print(\"    Left: \" + str(instance[\"BoundingBox\"][\"Left\"]))\n",
    "#             print(\"    Width: \" + str(instance[\"BoundingBox\"][\"Width\"]))\n",
    "#             print(\"    Height: \" + str(instance[\"BoundingBox\"][\"Height\"]))\n",
    "#             print(\"  Confidence: \" + str(instance[\"Confidence\"]))\n",
    "#             print()\n",
    "\n",
    "#         print(\"Parents:\")\n",
    "#         for parent in label[\"Parents\"]:\n",
    "#             print(\"   \" + parent[\"Name\"])\n",
    "#         print(\"----------\")\n",
    "#         print()\n",
    "    return response"
   ]
  },
  {
   "cell_type": "markdown",
   "id": "d924ac72-4253-42a4-8157-8c8ec60bbb7c",
   "metadata": {
    "tags": []
   },
   "source": [
    "## Function to create Base64 strings from images"
   ]
  },
  {
   "cell_type": "code",
   "execution_count": 5,
   "id": "1f00c87e-3a1c-4102-9b40-faaca885a0a5",
   "metadata": {
    "tags": []
   },
   "outputs": [],
   "source": [
    "# bucket = 'agd-000001-grpdrv-poc'\n",
    "# obj = \"AA_Enduring Power of Attorney/Working Files/Attorney+General's+Department.png\"\n",
    "\n",
    "\n",
    "\n",
    "def getbase64(obj, bucket):\n",
    "    # import file\n",
    "    s3 = boto3.resource(\"s3\")\n",
    "    file = s3.Object(bucket, obj)\n",
    "    file = file.get()\n",
    "    data = file[\"Body\"].read()\n",
    "\n",
    "    # read and resize \n",
    "    img = cv2.imdecode(np.asarray(bytearray(data)), cv2.IMREAD_COLOR)\n",
    "    scale_percent = 10 # percent of original size\n",
    "    width = int(img.shape[1] * scale_percent / 100)\n",
    "    height = int(img.shape[0] * scale_percent / 100)\n",
    "    dim = (width, height)\n",
    "    img = cv2.resize(img, dim, interpolation = cv2.INTER_AREA)\n",
    "    \n",
    "    # to base64\n",
    "    _, buffer_img= cv2.imencode('.jpg', img)\n",
    "    b64 = str(base64.b64encode(buffer_img).decode(\"ascii\"))\n",
    "    \n",
    "    return b64\n",
    "\n",
    "\n",
    "\n",
    "# getbase64(obj, bucket)"
   ]
  },
  {
   "cell_type": "markdown",
   "id": "21d442c7-2574-489b-8e7b-6bb17983fbb0",
   "metadata": {},
   "source": [
    "## Run"
   ]
  },
  {
   "cell_type": "code",
   "execution_count": null,
   "id": "e10b9986-da4d-4d85-a6a9-e1da2f49e455",
   "metadata": {
    "tags": []
   },
   "outputs": [
    {
     "name": "stdout",
     "output_type": "stream",
     "text": [
      "0\n",
      "total images 11\n",
      "1\n",
      "File Skipped due to error\n",
      "File Skipped due to error\n",
      "File Skipped due to error\n"
     ]
    },
    {
     "name": "stderr",
     "output_type": "stream",
     "text": [
      "libpng warning: iCCP: known incorrect sRGB profile\n"
     ]
    },
    {
     "name": "stdout",
     "output_type": "stream",
     "text": [
      "total images 25\n",
      "2\n"
     ]
    },
    {
     "name": "stderr",
     "output_type": "stream",
     "text": [
      "libpng warning: iCCP: known incorrect sRGB profile\n",
      "libpng warning: iCCP: known incorrect sRGB profile\n"
     ]
    },
    {
     "name": "stdout",
     "output_type": "stream",
     "text": [
      "File Skipped due to error\n",
      "File Skipped due to error\n",
      "File Skipped due to error\n"
     ]
    },
    {
     "name": "stderr",
     "output_type": "stream",
     "text": [
      "libpng warning: iCCP: known incorrect sRGB profile\n",
      "libpng warning: iCCP: cHRM chunk does not match sRGB\n"
     ]
    },
    {
     "name": "stdout",
     "output_type": "stream",
     "text": [
      "File Skipped due to error\n",
      "File Skipped due to error\n",
      "File Skipped due to error\n",
      "File Skipped due to error\n"
     ]
    },
    {
     "name": "stderr",
     "output_type": "stream",
     "text": [
      "libpng warning: iCCP: known incorrect sRGB profile\n",
      "libpng warning: iCCP: known incorrect sRGB profile\n",
      "libpng warning: iCCP: known incorrect sRGB profile\n"
     ]
    },
    {
     "name": "stdout",
     "output_type": "stream",
     "text": [
      "File Skipped due to error\n",
      "File Skipped due to error\n",
      "File Skipped due to error\n",
      "File Skipped due to error\n",
      "File Skipped due to error\n",
      "File Skipped due to error\n"
     ]
    },
    {
     "name": "stderr",
     "output_type": "stream",
     "text": [
      "libpng warning: iCCP: known incorrect sRGB profile\n",
      "libpng warning: iCCP: known incorrect sRGB profile\n",
      "libpng warning: iCCP: known incorrect sRGB profile\n"
     ]
    },
    {
     "name": "stdout",
     "output_type": "stream",
     "text": [
      "File Skipped due to error\n",
      "File Skipped due to error\n",
      "File Skipped due to error\n",
      "File Skipped due to error\n",
      "File Skipped due to error\n",
      "File Skipped due to error\n",
      "File Skipped due to error\n",
      "File Skipped due to error\n",
      "File Skipped due to error\n",
      "File Skipped due to error\n",
      "File Skipped due to error\n",
      "File Skipped due to error\n",
      "File Skipped due to error\n",
      "File Skipped due to error\n",
      "File Skipped due to error\n",
      "File Skipped due to error\n",
      "File Skipped due to error\n"
     ]
    },
    {
     "name": "stderr",
     "output_type": "stream",
     "text": [
      "libpng warning: iCCP: known incorrect sRGB profile\n",
      "libpng warning: iCCP: known incorrect sRGB profile\n",
      "libpng warning: iCCP: known incorrect sRGB profile\n"
     ]
    },
    {
     "name": "stdout",
     "output_type": "stream",
     "text": [
      "File Skipped due to error\n",
      "File Skipped due to error\n",
      "total images 304\n",
      "3\n",
      "File Skipped due to error\n",
      "File Skipped due to error\n",
      "File Skipped due to error\n",
      "File Skipped due to error\n",
      "File Skipped due to error\n",
      "File Skipped due to error\n",
      "File Skipped due to error\n",
      "File Skipped due to error\n",
      "File Skipped due to error\n",
      "File Skipped due to error\n",
      "File Skipped due to error\n",
      "File Skipped due to error\n",
      "File Skipped due to error\n",
      "File Skipped due to error\n",
      "File Skipped due to error\n",
      "File Skipped due to error\n"
     ]
    },
    {
     "name": "stderr",
     "output_type": "stream",
     "text": [
      "libpng warning: iCCP: known incorrect sRGB profile\n",
      "libpng warning: iCCP: known incorrect sRGB profile\n",
      "libpng warning: iCCP: known incorrect sRGB profile\n"
     ]
    },
    {
     "name": "stdout",
     "output_type": "stream",
     "text": [
      "File Skipped due to error\n",
      "File Skipped due to error\n",
      "File Skipped due to error\n"
     ]
    },
    {
     "name": "stderr",
     "output_type": "stream",
     "text": [
      "libpng warning: iCCP: known incorrect sRGB profile\n",
      "libpng warning: iCCP: known incorrect sRGB profile\n",
      "libpng warning: iCCP: known incorrect sRGB profile\n",
      "libpng warning: iCCP: known incorrect sRGB profile\n",
      "libpng warning: iCCP: known incorrect sRGB profile\n"
     ]
    },
    {
     "name": "stdout",
     "output_type": "stream",
     "text": [
      "File Skipped due to error\n",
      "File Skipped due to error\n",
      "File Skipped due to error\n",
      "File Skipped due to error\n",
      "File Skipped due to error\n"
     ]
    },
    {
     "name": "stderr",
     "output_type": "stream",
     "text": [
      "libpng warning: iCCP: known incorrect sRGB profile\n",
      "libpng warning: iCCP: known incorrect sRGB profile\n",
      "libpng warning: iCCP: known incorrect sRGB profile\n",
      "libpng warning: iCCP: known incorrect sRGB profile\n",
      "libpng warning: iCCP: known incorrect sRGB profile\n"
     ]
    },
    {
     "name": "stdout",
     "output_type": "stream",
     "text": [
      "File Skipped due to error\n",
      "File Skipped due to error\n",
      "File Skipped due to error\n",
      "total images 605\n",
      "4\n",
      "File Skipped due to error\n",
      "File Skipped due to error\n"
     ]
    },
    {
     "name": "stderr",
     "output_type": "stream",
     "text": [
      "libpng warning: iCCP: known incorrect sRGB profile\n",
      "libpng warning: iCCP: known incorrect sRGB profile\n",
      "libpng warning: iCCP: known incorrect sRGB profile\n",
      "libpng warning: iCCP: known incorrect sRGB profile\n",
      "libpng warning: iCCP: known incorrect sRGB profile\n"
     ]
    },
    {
     "name": "stdout",
     "output_type": "stream",
     "text": [
      "File Skipped due to error\n",
      "File Skipped due to error\n",
      "File Skipped due to error\n",
      "File Skipped due to error\n",
      "File Skipped due to error\n"
     ]
    },
    {
     "name": "stderr",
     "output_type": "stream",
     "text": [
      "libpng warning: iCCP: known incorrect sRGB profile\n",
      "libpng warning: iCCP: known incorrect sRGB profile\n",
      "libpng warning: iCCP: known incorrect sRGB profile\n",
      "libpng warning: iCCP: known incorrect sRGB profile\n",
      "libpng warning: iCCP: known incorrect sRGB profile\n"
     ]
    },
    {
     "name": "stdout",
     "output_type": "stream",
     "text": [
      "File Skipped due to error\n",
      "File Skipped due to error\n",
      "File Skipped due to error\n",
      "File Skipped due to error\n",
      "File Skipped due to error\n"
     ]
    },
    {
     "name": "stderr",
     "output_type": "stream",
     "text": [
      "libpng warning: iCCP: known incorrect sRGB profile\n",
      "libpng warning: iCCP: known incorrect sRGB profile\n",
      "libpng warning: iCCP: known incorrect sRGB profile\n",
      "libpng warning: iCCP: known incorrect sRGB profile\n",
      "libpng warning: iCCP: known incorrect sRGB profile\n"
     ]
    },
    {
     "name": "stdout",
     "output_type": "stream",
     "text": [
      "File Skipped due to error\n",
      "File Skipped due to error\n",
      "File Skipped due to error\n",
      "File Skipped due to error\n",
      "File Skipped due to error\n"
     ]
    },
    {
     "name": "stderr",
     "output_type": "stream",
     "text": [
      "libpng warning: iCCP: known incorrect sRGB profile\n",
      "libpng warning: iCCP: known incorrect sRGB profile\n",
      "libpng warning: iCCP: known incorrect sRGB profile\n",
      "libpng warning: iCCP: known incorrect sRGB profile\n",
      "libpng warning: iCCP: known incorrect sRGB profile\n"
     ]
    },
    {
     "name": "stdout",
     "output_type": "stream",
     "text": [
      "File Skipped due to error\n",
      "File Skipped due to error\n",
      "File Skipped due to error\n",
      "total images 941\n",
      "5\n",
      "File Skipped due to error\n",
      "File Skipped due to error\n"
     ]
    },
    {
     "name": "stderr",
     "output_type": "stream",
     "text": [
      "libpng warning: iCCP: known incorrect sRGB profile\n",
      "libpng warning: iCCP: known incorrect sRGB profile\n",
      "libpng warning: iCCP: known incorrect sRGB profile\n",
      "libpng warning: iCCP: known incorrect sRGB profile\n",
      "libpng warning: iCCP: known incorrect sRGB profile\n"
     ]
    },
    {
     "name": "stdout",
     "output_type": "stream",
     "text": [
      "File Skipped due to error\n",
      "File Skipped due to error\n",
      "File Skipped due to error\n",
      "File Skipped due to error\n",
      "File Skipped due to error\n"
     ]
    },
    {
     "name": "stderr",
     "output_type": "stream",
     "text": [
      "libpng warning: iCCP: known incorrect sRGB profile\n",
      "libpng warning: iCCP: known incorrect sRGB profile\n",
      "libpng warning: iCCP: known incorrect sRGB profile\n",
      "libpng warning: iCCP: known incorrect sRGB profile\n",
      "libpng warning: iCCP: known incorrect sRGB profile\n"
     ]
    },
    {
     "name": "stdout",
     "output_type": "stream",
     "text": [
      "File Skipped due to error\n",
      "File Skipped due to error\n",
      "File Skipped due to error\n",
      "File Skipped due to error\n",
      "File Skipped due to error\n"
     ]
    },
    {
     "name": "stderr",
     "output_type": "stream",
     "text": [
      "libpng warning: iCCP: known incorrect sRGB profile\n",
      "libpng warning: iCCP: known incorrect sRGB profile\n",
      "libpng warning: iCCP: known incorrect sRGB profile\n",
      "libpng warning: iCCP: known incorrect sRGB profile\n",
      "libpng warning: iCCP: known incorrect sRGB profile\n"
     ]
    },
    {
     "name": "stdout",
     "output_type": "stream",
     "text": [
      "File Skipped due to error\n",
      "File Skipped due to error\n",
      "File Skipped due to error\n",
      "total images 1251\n",
      "6\n",
      "File Skipped due to error\n",
      "File Skipped due to error\n",
      "File Skipped due to error\n",
      "File Skipped due to error\n",
      "File Skipped due to error\n",
      "File Skipped due to error\n"
     ]
    },
    {
     "name": "stderr",
     "output_type": "stream",
     "text": [
      "libpng warning: iCCP: known incorrect sRGB profile\n",
      "libpng warning: iCCP: known incorrect sRGB profile\n",
      "libpng warning: iCCP: known incorrect sRGB profile\n"
     ]
    },
    {
     "name": "stdout",
     "output_type": "stream",
     "text": [
      "File Skipped due to error\n",
      "File Skipped due to error\n",
      "File Skipped due to error\n"
     ]
    },
    {
     "name": "stderr",
     "output_type": "stream",
     "text": [
      "libpng warning: iCCP: known incorrect sRGB profile\n",
      "libpng warning: iCCP: cHRM chunk does not match sRGB\n"
     ]
    },
    {
     "name": "stdout",
     "output_type": "stream",
     "text": [
      "File Skipped due to error\n",
      "File Skipped due to error\n",
      "File Skipped due to error\n",
      "File Skipped due to error\n"
     ]
    },
    {
     "name": "stderr",
     "output_type": "stream",
     "text": [
      "libpng warning: iCCP: known incorrect sRGB profile\n",
      "libpng warning: iCCP: known incorrect sRGB profile\n",
      "libpng warning: iCCP: known incorrect sRGB profile\n"
     ]
    },
    {
     "name": "stdout",
     "output_type": "stream",
     "text": [
      "File Skipped due to error\n",
      "File Skipped due to error\n"
     ]
    },
    {
     "name": "stderr",
     "output_type": "stream",
     "text": [
      "libpng warning: iCCP: known incorrect sRGB profile\n"
     ]
    },
    {
     "name": "stdout",
     "output_type": "stream",
     "text": [
      "File Skipped due to error\n",
      "File Skipped due to error\n",
      "File Skipped due to error\n",
      "File Skipped due to error\n"
     ]
    },
    {
     "name": "stderr",
     "output_type": "stream",
     "text": [
      "libpng warning: iCCP: known incorrect sRGB profile\n",
      "libpng warning: iCCP: known incorrect sRGB profile\n",
      "libpng warning: iCCP: known incorrect sRGB profile\n"
     ]
    },
    {
     "name": "stdout",
     "output_type": "stream",
     "text": [
      "File Skipped due to error\n",
      "File Skipped due to error\n",
      "File Skipped due to error\n",
      "File Skipped due to error\n",
      "File Skipped due to error\n",
      "File Skipped due to error\n",
      "File Skipped due to error\n",
      "File Skipped due to error\n",
      "File Skipped due to error\n",
      "File Skipped due to error\n",
      "File Skipped due to error\n",
      "File Skipped due to error\n",
      "File Skipped due to error\n",
      "File Skipped due to error\n",
      "File Skipped due to error\n",
      "File Skipped due to error\n",
      "File Skipped due to error\n"
     ]
    },
    {
     "name": "stderr",
     "output_type": "stream",
     "text": [
      "libpng warning: iCCP: known incorrect sRGB profile\n",
      "libpng warning: iCCP: known incorrect sRGB profile\n",
      "libpng warning: iCCP: known incorrect sRGB profile\n"
     ]
    },
    {
     "name": "stdout",
     "output_type": "stream",
     "text": [
      "File Skipped due to error\n",
      "total images 1561\n",
      "7\n",
      "File Skipped due to error\n",
      "File Skipped due to error\n",
      "File Skipped due to error\n",
      "File Skipped due to error\n",
      "File Skipped due to error\n",
      "File Skipped due to error\n",
      "File Skipped due to error\n",
      "File Skipped due to error\n",
      "File Skipped due to error\n",
      "File Skipped due to error\n",
      "File Skipped due to error\n",
      "File Skipped due to error\n",
      "File Skipped due to error\n",
      "File Skipped due to error\n"
     ]
    },
    {
     "name": "stderr",
     "output_type": "stream",
     "text": [
      "libpng warning: iCCP: known incorrect sRGB profile\n",
      "libpng warning: iCCP: known incorrect sRGB profile\n",
      "libpng warning: iCCP: known incorrect sRGB profile\n",
      "libpng warning: iCCP: known incorrect sRGB profile\n",
      "libpng warning: iCCP: known incorrect sRGB profile\n"
     ]
    },
    {
     "name": "stdout",
     "output_type": "stream",
     "text": [
      "File Skipped due to error\n",
      "File Skipped due to error\n",
      "File Skipped due to error\n"
     ]
    },
    {
     "name": "stderr",
     "output_type": "stream",
     "text": [
      "libpng warning: iCCP: known incorrect sRGB profile\n"
     ]
    },
    {
     "name": "stdout",
     "output_type": "stream",
     "text": [
      "File Skipped due to error\n"
     ]
    },
    {
     "name": "stderr",
     "output_type": "stream",
     "text": [
      "libpng warning: iCCP: known incorrect sRGB profile\n",
      "libpng warning: iCCP: known incorrect sRGB profile\n",
      "libpng warning: iCCP: known incorrect sRGB profile\n",
      "libpng warning: iCCP: known incorrect sRGB profile\n",
      "libpng warning: iCCP: known incorrect sRGB profile\n"
     ]
    },
    {
     "name": "stdout",
     "output_type": "stream",
     "text": [
      "File Skipped due to error\n",
      "File Skipped due to error\n",
      "File Skipped due to error\n",
      "File Skipped due to error\n",
      "File Skipped due to error\n"
     ]
    },
    {
     "name": "stderr",
     "output_type": "stream",
     "text": [
      "libpng warning: iCCP: known incorrect sRGB profile\n",
      "libpng warning: iCCP: known incorrect sRGB profile\n",
      "libpng warning: iCCP: known incorrect sRGB profile\n",
      "libpng warning: iCCP: known incorrect sRGB profile\n",
      "libpng warning: iCCP: known incorrect sRGB profile\n"
     ]
    },
    {
     "name": "stdout",
     "output_type": "stream",
     "text": [
      "File Skipped due to error\n",
      "File Skipped due to error\n",
      "File Skipped due to error\n",
      "total images 1846\n",
      "8\n",
      "File Skipped due to error\n",
      "File Skipped due to error\n"
     ]
    },
    {
     "name": "stderr",
     "output_type": "stream",
     "text": [
      "libpng warning: iCCP: known incorrect sRGB profile\n",
      "libpng warning: iCCP: known incorrect sRGB profile\n",
      "libpng warning: iCCP: known incorrect sRGB profile\n",
      "libpng warning: iCCP: known incorrect sRGB profile\n",
      "libpng warning: iCCP: known incorrect sRGB profile\n"
     ]
    },
    {
     "name": "stdout",
     "output_type": "stream",
     "text": [
      "File Skipped due to error\n",
      "File Skipped due to error\n",
      "File Skipped due to error\n",
      "File Skipped due to error\n",
      "File Skipped due to error\n"
     ]
    },
    {
     "name": "stderr",
     "output_type": "stream",
     "text": [
      "libpng warning: iCCP: known incorrect sRGB profile\n",
      "libpng warning: iCCP: known incorrect sRGB profile\n",
      "libpng warning: iCCP: known incorrect sRGB profile\n",
      "libpng warning: iCCP: known incorrect sRGB profile\n",
      "libpng warning: iCCP: known incorrect sRGB profile\n"
     ]
    },
    {
     "name": "stdout",
     "output_type": "stream",
     "text": [
      "File Skipped due to error\n",
      "File Skipped due to error\n",
      "File Skipped due to error\n",
      "File Skipped due to error\n",
      "File Skipped due to error\n"
     ]
    },
    {
     "name": "stderr",
     "output_type": "stream",
     "text": [
      "libpng warning: iCCP: known incorrect sRGB profile\n",
      "libpng warning: iCCP: known incorrect sRGB profile\n",
      "libpng warning: iCCP: known incorrect sRGB profile\n",
      "libpng warning: iCCP: known incorrect sRGB profile\n",
      "libpng warning: iCCP: known incorrect sRGB profile\n"
     ]
    },
    {
     "name": "stdout",
     "output_type": "stream",
     "text": [
      "File Skipped due to error\n",
      "File Skipped due to error\n",
      "File Skipped due to error\n",
      "total images 2153\n",
      "9\n",
      "File Skipped due to error\n",
      "File Skipped due to error\n"
     ]
    },
    {
     "name": "stderr",
     "output_type": "stream",
     "text": [
      "libpng warning: iCCP: known incorrect sRGB profile\n",
      "libpng warning: iCCP: known incorrect sRGB profile\n",
      "libpng warning: iCCP: known incorrect sRGB profile\n",
      "libpng warning: iCCP: known incorrect sRGB profile\n",
      "libpng warning: iCCP: known incorrect sRGB profile\n"
     ]
    },
    {
     "name": "stdout",
     "output_type": "stream",
     "text": [
      "File Skipped due to error\n",
      "File Skipped due to error\n",
      "File Skipped due to error\n",
      "File Skipped due to error\n",
      "File Skipped due to error\n"
     ]
    },
    {
     "name": "stderr",
     "output_type": "stream",
     "text": [
      "libpng warning: iCCP: known incorrect sRGB profile\n",
      "libpng warning: iCCP: known incorrect sRGB profile\n",
      "libpng warning: iCCP: known incorrect sRGB profile\n",
      "libpng warning: iCCP: known incorrect sRGB profile\n",
      "libpng warning: iCCP: known incorrect sRGB profile\n"
     ]
    },
    {
     "name": "stdout",
     "output_type": "stream",
     "text": [
      "File Skipped due to error\n",
      "File Skipped due to error\n",
      "File Skipped due to error\n",
      "File Skipped due to error\n",
      "File Skipped due to error\n"
     ]
    },
    {
     "name": "stderr",
     "output_type": "stream",
     "text": [
      "libpng warning: iCCP: known incorrect sRGB profile\n",
      "libpng warning: iCCP: known incorrect sRGB profile\n",
      "libpng warning: iCCP: known incorrect sRGB profile\n",
      "libpng warning: iCCP: known incorrect sRGB profile\n",
      "libpng warning: iCCP: known incorrect sRGB profile\n"
     ]
    },
    {
     "name": "stdout",
     "output_type": "stream",
     "text": [
      "File Skipped due to error\n",
      "File Skipped due to error\n",
      "File Skipped due to error\n",
      "File Skipped due to error\n",
      "File Skipped due to error\n"
     ]
    },
    {
     "name": "stderr",
     "output_type": "stream",
     "text": [
      "libpng warning: iCCP: known incorrect sRGB profile\n",
      "libpng warning: iCCP: known incorrect sRGB profile\n",
      "libpng warning: iCCP: known incorrect sRGB profile\n",
      "libpng warning: iCCP: known incorrect sRGB profile\n",
      "libpng warning: iCCP: known incorrect sRGB profile\n"
     ]
    },
    {
     "name": "stdout",
     "output_type": "stream",
     "text": [
      "File Skipped due to error\n",
      "File Skipped due to error\n",
      "File Skipped due to error\n",
      "total images 2489\n",
      "10\n",
      "File Skipped due to error\n",
      "File Skipped due to error\n",
      "File Skipped due to error\n",
      "File Skipped due to error\n",
      "File Skipped due to error\n",
      "File Skipped due to error\n"
     ]
    },
    {
     "name": "stderr",
     "output_type": "stream",
     "text": [
      "libpng warning: iCCP: known incorrect sRGB profile\n",
      "libpng warning: iCCP: known incorrect sRGB profile\n",
      "libpng warning: iCCP: known incorrect sRGB profile\n"
     ]
    },
    {
     "name": "stdout",
     "output_type": "stream",
     "text": [
      "File Skipped due to error\n",
      "File Skipped due to error\n"
     ]
    },
    {
     "name": "stderr",
     "output_type": "stream",
     "text": [
      "libpng warning: iCCP: known incorrect sRGB profile\n"
     ]
    },
    {
     "name": "stdout",
     "output_type": "stream",
     "text": [
      "File Skipped due to error\n"
     ]
    },
    {
     "name": "stderr",
     "output_type": "stream",
     "text": [
      "libpng warning: iCCP: known incorrect sRGB profile\n",
      "libpng warning: iCCP: cHRM chunk does not match sRGB\n"
     ]
    },
    {
     "name": "stdout",
     "output_type": "stream",
     "text": [
      "File Skipped due to error\n",
      "total images 2629\n",
      "11\n",
      "total images 2629\n",
      "12\n",
      "total images 2629\n",
      "13\n",
      "total images 2635\n",
      "14\n",
      "total images 2640\n",
      "15\n",
      "total images 2649\n",
      "16\n",
      "total images 2651\n",
      "17\n",
      "total images 2651\n",
      "18\n",
      "total images 2653\n",
      "19\n",
      "total images 2664\n",
      "20\n",
      "total images 2664\n",
      "21\n",
      "total images 2664\n",
      "22\n",
      "total images 2669\n",
      "23\n",
      "total images 2670\n",
      "24\n",
      "total images 2684\n",
      "25\n",
      "total images 2689\n",
      "26\n",
      "total images 2689\n",
      "27\n",
      "total images 2689\n",
      "28\n",
      "total images 2689\n",
      "29\n",
      "total images 2689\n",
      "30\n",
      "total images 2689\n",
      "31\n",
      "total images 2689\n",
      "32\n",
      "total images 2711\n",
      "33\n",
      "total images 2952\n",
      "34\n",
      "total images 2985\n",
      "35\n",
      "total images 2987\n",
      "36\n",
      "total images 3271\n",
      "37\n",
      "total images 3279\n",
      "38\n",
      "total images 3321\n",
      "39\n"
     ]
    },
    {
     "name": "stderr",
     "output_type": "stream",
     "text": [
      "libpng warning: iCCP: known incorrect sRGB profile\n",
      "libpng warning: iCCP: known incorrect sRGB profile\n",
      "libpng warning: iCCP: known incorrect sRGB profile\n",
      "libpng warning: iCCP: known incorrect sRGB profile\n",
      "libpng warning: iCCP: known incorrect sRGB profile\n",
      "libpng warning: iCCP: known incorrect sRGB profile\n",
      "libpng warning: iCCP: known incorrect sRGB profile\n",
      "libpng warning: iCCP: known incorrect sRGB profile\n",
      "libpng warning: iCCP: known incorrect sRGB profile\n",
      "libpng warning: iCCP: known incorrect sRGB profile\n",
      "libpng warning: iCCP: known incorrect sRGB profile\n",
      "libpng warning: iCCP: known incorrect sRGB profile\n",
      "libpng warning: iCCP: known incorrect sRGB profile\n",
      "libpng warning: iCCP: known incorrect sRGB profile\n",
      "libpng warning: iCCP: known incorrect sRGB profile\n",
      "libpng warning: iCCP: known incorrect sRGB profile\n"
     ]
    },
    {
     "name": "stdout",
     "output_type": "stream",
     "text": [
      "total images 3438\n",
      "40\n",
      "total images 3784\n",
      "41\n",
      "total images 3786\n",
      "42\n",
      "total images 3786\n",
      "43\n",
      "total images 3786\n",
      "44\n",
      "total images 3794\n",
      "45\n",
      "total images 3794\n",
      "46\n",
      "total images 3798\n",
      "47\n",
      "total images 3798\n",
      "48\n",
      "total images 3798\n",
      "49\n",
      "total images 3798\n",
      "50\n",
      "total images 3798\n",
      "51\n",
      "total images 3798\n",
      "52\n",
      "total images 3798\n",
      "53\n",
      "total images 3798\n",
      "54\n",
      "total images 3798\n",
      "55\n",
      "total images 3798\n",
      "56\n",
      "total images 3798\n",
      "57\n",
      "total images 3798\n",
      "58\n",
      "total images 3798\n",
      "59\n",
      "total images 3798\n",
      "60\n",
      "total images 3800\n",
      "61\n",
      "total images 3800\n",
      "62\n",
      "total images 3800\n",
      "63\n",
      "total images 3800\n",
      "64\n",
      "total images 3801\n",
      "65\n",
      "total images 3801\n",
      "66\n",
      "total images 3801\n",
      "67\n",
      "total images 3808\n",
      "68\n",
      "total images 3808\n",
      "69\n",
      "total images 3808\n",
      "70\n",
      "total images 3808\n",
      "71\n",
      "total images 3808\n",
      "72\n",
      "total images 3812\n",
      "73\n",
      "total images 3812\n",
      "74\n",
      "total images 3812\n",
      "75\n",
      "total images 3812\n",
      "76\n",
      "total images 3812\n",
      "77\n",
      "total images 3812\n",
      "78\n",
      "total images 3812\n",
      "79\n",
      "total images 3812\n",
      "80\n",
      "total images 3812\n",
      "81\n",
      "total images 3812\n",
      "82\n",
      "total images 3812\n",
      "83\n",
      "total images 3812\n",
      "84\n",
      "total images 3812\n",
      "85\n",
      "total images 3812\n",
      "86\n",
      "total images 3812\n",
      "87\n",
      "total images 3813\n",
      "88\n",
      "total images 3813\n",
      "89\n",
      "total images 3813\n",
      "90\n",
      "total images 3814\n",
      "91\n",
      "total images 3814\n",
      "92\n",
      "total images 3814\n",
      "93\n",
      "total images 3814\n",
      "94\n",
      "total images 3815\n",
      "95\n",
      "total images 3815\n",
      "96\n",
      "total images 3815\n",
      "97\n",
      "total images 3816\n",
      "98\n",
      "total images 3816\n",
      "99\n",
      "total images 3816\n",
      "100\n",
      "total images 3816\n",
      "101\n",
      "total images 3820\n",
      "102\n",
      "total images 3820\n",
      "103\n",
      "total images 3820\n",
      "104\n",
      "total images 3823\n",
      "105\n",
      "total images 3823\n",
      "106\n",
      "total images 3823\n",
      "107\n",
      "total images 3823\n",
      "108\n",
      "total images 3823\n",
      "109\n",
      "total images 3823\n",
      "110\n",
      "total images 3823\n",
      "111\n",
      "total images 3834\n",
      "112\n",
      "total images 3834\n",
      "113\n",
      "total images 3834\n",
      "114\n",
      "total images 3834\n",
      "115\n",
      "total images 3834\n",
      "116\n",
      "total images 3836\n",
      "117\n",
      "total images 3837\n",
      "118\n",
      "total images 3837\n",
      "119\n",
      "total images 3837\n",
      "120\n",
      "total images 3837\n",
      "121\n",
      "total images 3837\n",
      "122\n",
      "total images 3983\n",
      "123\n",
      "total images 4175\n",
      "124\n",
      "total images 4297\n",
      "125\n",
      "total images 4358\n",
      "126\n",
      "total images 4654\n",
      "127\n",
      "total images 4654\n",
      "128\n",
      "total images 4658\n",
      "129\n",
      "File Skipped due to error\n",
      "File Skipped due to error\n",
      "File Skipped due to error\n",
      "File Skipped due to error\n",
      "File Skipped due to error\n",
      "File Skipped due to error\n",
      "File Skipped due to error\n",
      "File Skipped due to error\n",
      "File Skipped due to error\n",
      "File Skipped due to error\n",
      "File Skipped due to error\n",
      "File Skipped due to error\n",
      "File Skipped due to error\n",
      "File Skipped due to error\n",
      "File Skipped due to error\n",
      "File Skipped due to error\n",
      "File Skipped due to error\n",
      "File Skipped due to error\n",
      "File Skipped due to error\n",
      "File Skipped due to error\n",
      "File Skipped due to error\n",
      "File Skipped due to error\n",
      "File Skipped due to error\n",
      "File Skipped due to error\n",
      "File Skipped due to error\n",
      "File Skipped due to error\n",
      "File Skipped due to error\n",
      "File Skipped due to error\n",
      "File Skipped due to error\n"
     ]
    },
    {
     "name": "stderr",
     "output_type": "stream",
     "text": [
      "libpng warning: iCCP: known incorrect sRGB profile\n",
      "libpng warning: iCCP: cHRM chunk does not match sRGB\n",
      "libpng warning: iCCP: known incorrect sRGB profile\n",
      "libpng warning: iCCP: cHRM chunk does not match sRGB\n",
      "libpng warning: iCCP: known incorrect sRGB profile\n",
      "libpng warning: iCCP: cHRM chunk does not match sRGB\n"
     ]
    },
    {
     "name": "stdout",
     "output_type": "stream",
     "text": [
      "File Skipped due to error\n",
      "File Skipped due to error\n",
      "File Skipped due to error\n"
     ]
    },
    {
     "name": "stderr",
     "output_type": "stream",
     "text": [
      "libpng warning: iCCP: known incorrect sRGB profile\n",
      "libpng warning: iCCP: cHRM chunk does not match sRGB\n",
      "libpng warning: iCCP: known incorrect sRGB profile\n",
      "libpng warning: iCCP: cHRM chunk does not match sRGB\n"
     ]
    },
    {
     "name": "stdout",
     "output_type": "stream",
     "text": [
      "File Skipped due to error\n",
      "File Skipped due to error\n"
     ]
    },
    {
     "name": "stderr",
     "output_type": "stream",
     "text": [
      "libpng warning: iCCP: known incorrect sRGB profile\n",
      "libpng warning: iCCP: cHRM chunk does not match sRGB\n",
      "libpng warning: iCCP: known incorrect sRGB profile\n",
      "libpng warning: iCCP: cHRM chunk does not match sRGB\n"
     ]
    },
    {
     "name": "stdout",
     "output_type": "stream",
     "text": [
      "File Skipped due to error\n",
      "File Skipped due to error\n"
     ]
    },
    {
     "name": "stderr",
     "output_type": "stream",
     "text": [
      "libpng warning: iCCP: known incorrect sRGB profile\n",
      "libpng warning: iCCP: cHRM chunk does not match sRGB\n"
     ]
    },
    {
     "name": "stdout",
     "output_type": "stream",
     "text": [
      "File Skipped due to error\n"
     ]
    },
    {
     "name": "stderr",
     "output_type": "stream",
     "text": [
      "libpng warning: iCCP: known incorrect sRGB profile\n",
      "libpng warning: iCCP: cHRM chunk does not match sRGB\n",
      "libpng warning: iCCP: known incorrect sRGB profile\n",
      "libpng warning: iCCP: cHRM chunk does not match sRGB\n"
     ]
    },
    {
     "name": "stdout",
     "output_type": "stream",
     "text": [
      "File Skipped due to error\n",
      "File Skipped due to error\n"
     ]
    },
    {
     "name": "stderr",
     "output_type": "stream",
     "text": [
      "libpng warning: iCCP: known incorrect sRGB profile\n",
      "libpng warning: iCCP: cHRM chunk does not match sRGB\n"
     ]
    },
    {
     "name": "stdout",
     "output_type": "stream",
     "text": [
      "File Skipped due to error\n",
      "total images 5520\n",
      "130\n",
      "File Skipped due to error\n",
      "File Skipped due to error\n",
      "File Skipped due to error\n",
      "File Skipped due to error\n",
      "File Skipped due to error\n",
      "File Skipped due to error\n",
      "File Skipped due to error\n",
      "File Skipped due to error\n",
      "File Skipped due to error\n",
      "File Skipped due to error\n",
      "File Skipped due to error\n",
      "File Skipped due to error\n",
      "File Skipped due to error\n",
      "File Skipped due to error\n",
      "File Skipped due to error\n",
      "File Skipped due to error\n",
      "File Skipped due to error\n",
      "File Skipped due to error\n",
      "File Skipped due to error\n",
      "File Skipped due to error\n",
      "File Skipped due to error\n",
      "File Skipped due to error\n",
      "File Skipped due to error\n",
      "File Skipped due to error\n",
      "File Skipped due to error\n",
      "File Skipped due to error\n",
      "File Skipped due to error\n",
      "File Skipped due to error\n",
      "File Skipped due to error\n",
      "File Skipped due to error\n",
      "File Skipped due to error\n",
      "File Skipped due to error\n",
      "File Skipped due to error\n",
      "File Skipped due to error\n",
      "File Skipped due to error\n",
      "File Skipped due to error\n",
      "File Skipped due to error\n",
      "File Skipped due to error\n",
      "File Skipped due to error\n",
      "File Skipped due to error\n",
      "File Skipped due to error\n"
     ]
    },
    {
     "name": "stderr",
     "output_type": "stream",
     "text": [
      "libpng warning: iCCP: known incorrect sRGB profile\n",
      "libpng warning: iCCP: cHRM chunk does not match sRGB\n",
      "libpng warning: iCCP: known incorrect sRGB profile\n",
      "libpng warning: iCCP: cHRM chunk does not match sRGB\n"
     ]
    },
    {
     "name": "stdout",
     "output_type": "stream",
     "text": [
      "File Skipped due to error\n",
      "File Skipped due to error\n"
     ]
    },
    {
     "name": "stderr",
     "output_type": "stream",
     "text": [
      "libpng warning: iCCP: known incorrect sRGB profile\n",
      "libpng warning: iCCP: cHRM chunk does not match sRGB\n",
      "libpng warning: iCCP: known incorrect sRGB profile\n",
      "libpng warning: iCCP: cHRM chunk does not match sRGB\n"
     ]
    },
    {
     "name": "stdout",
     "output_type": "stream",
     "text": [
      "File Skipped due to error\n",
      "File Skipped due to error\n"
     ]
    },
    {
     "name": "stderr",
     "output_type": "stream",
     "text": [
      "libpng warning: iCCP: known incorrect sRGB profile\n",
      "libpng warning: iCCP: cHRM chunk does not match sRGB\n",
      "libpng warning: iCCP: known incorrect sRGB profile\n",
      "libpng warning: iCCP: cHRM chunk does not match sRGB\n"
     ]
    },
    {
     "name": "stdout",
     "output_type": "stream",
     "text": [
      "File Skipped due to error\n",
      "File Skipped due to error\n"
     ]
    },
    {
     "name": "stderr",
     "output_type": "stream",
     "text": [
      "libpng warning: iCCP: known incorrect sRGB profile\n",
      "libpng warning: iCCP: cHRM chunk does not match sRGB\n",
      "libpng warning: iCCP: known incorrect sRGB profile\n",
      "libpng warning: iCCP: cHRM chunk does not match sRGB\n"
     ]
    },
    {
     "name": "stdout",
     "output_type": "stream",
     "text": [
      "File Skipped due to error\n",
      "File Skipped due to error\n"
     ]
    },
    {
     "name": "stderr",
     "output_type": "stream",
     "text": [
      "libpng warning: iCCP: known incorrect sRGB profile\n",
      "libpng warning: iCCP: cHRM chunk does not match sRGB\n",
      "libpng warning: iCCP: known incorrect sRGB profile\n",
      "libpng warning: iCCP: cHRM chunk does not match sRGB\n"
     ]
    },
    {
     "name": "stdout",
     "output_type": "stream",
     "text": [
      "File Skipped due to error\n",
      "File Skipped due to error\n"
     ]
    },
    {
     "name": "stderr",
     "output_type": "stream",
     "text": [
      "libpng warning: iCCP: known incorrect sRGB profile\n",
      "libpng warning: iCCP: cHRM chunk does not match sRGB\n",
      "libpng warning: iCCP: known incorrect sRGB profile\n",
      "libpng warning: iCCP: cHRM chunk does not match sRGB\n"
     ]
    },
    {
     "name": "stdout",
     "output_type": "stream",
     "text": [
      "File Skipped due to error\n",
      "File Skipped due to error\n"
     ]
    },
    {
     "name": "stderr",
     "output_type": "stream",
     "text": [
      "libpng warning: iCCP: known incorrect sRGB profile\n",
      "libpng warning: iCCP: cHRM chunk does not match sRGB\n",
      "libpng warning: iCCP: known incorrect sRGB profile\n",
      "libpng warning: iCCP: cHRM chunk does not match sRGB\n"
     ]
    },
    {
     "name": "stdout",
     "output_type": "stream",
     "text": [
      "File Skipped due to error\n",
      "File Skipped due to error\n"
     ]
    },
    {
     "name": "stderr",
     "output_type": "stream",
     "text": [
      "libpng warning: iCCP: known incorrect sRGB profile\n",
      "libpng warning: iCCP: cHRM chunk does not match sRGB\n",
      "libpng warning: iCCP: known incorrect sRGB profile\n",
      "libpng warning: iCCP: cHRM chunk does not match sRGB\n"
     ]
    },
    {
     "name": "stdout",
     "output_type": "stream",
     "text": [
      "File Skipped due to error\n",
      "File Skipped due to error\n"
     ]
    },
    {
     "name": "stderr",
     "output_type": "stream",
     "text": [
      "libpng warning: iCCP: known incorrect sRGB profile\n",
      "libpng warning: iCCP: cHRM chunk does not match sRGB\n"
     ]
    },
    {
     "name": "stdout",
     "output_type": "stream",
     "text": [
      "File Skipped due to error\n"
     ]
    },
    {
     "name": "stderr",
     "output_type": "stream",
     "text": [
      "libpng warning: iCCP: known incorrect sRGB profile\n",
      "libpng warning: iCCP: cHRM chunk does not match sRGB\n"
     ]
    },
    {
     "name": "stdout",
     "output_type": "stream",
     "text": [
      "File Skipped due to error\n",
      "File Skipped due to error\n",
      "File Skipped due to error\n",
      "File Skipped due to error\n",
      "File Skipped due to error\n",
      "File Skipped due to error\n",
      "File Skipped due to error\n",
      "File Skipped due to error\n",
      "File Skipped due to error\n",
      "File Skipped due to error\n",
      "total images 6360\n",
      "131\n"
     ]
    },
    {
     "name": "stderr",
     "output_type": "stream",
     "text": [
      "libpng warning: iCCP: known incorrect sRGB profile\n",
      "libpng warning: iCCP: cHRM chunk does not match sRGB\n"
     ]
    },
    {
     "name": "stdout",
     "output_type": "stream",
     "text": [
      "File Skipped due to error\n"
     ]
    },
    {
     "name": "stderr",
     "output_type": "stream",
     "text": [
      "libpng warning: iCCP: known incorrect sRGB profile\n",
      "libpng warning: iCCP: cHRM chunk does not match sRGB\n",
      "libpng warning: iCCP: known incorrect sRGB profile\n",
      "libpng warning: iCCP: cHRM chunk does not match sRGB\n"
     ]
    },
    {
     "name": "stdout",
     "output_type": "stream",
     "text": [
      "File Skipped due to error\n",
      "File Skipped due to error\n",
      "File Skipped due to error\n",
      "File Skipped due to error\n",
      "File Skipped due to error\n",
      "File Skipped due to error\n",
      "File Skipped due to error\n",
      "File Skipped due to error\n",
      "File Skipped due to error\n",
      "File Skipped due to error\n",
      "File Skipped due to error\n",
      "File Skipped due to error\n",
      "File Skipped due to error\n",
      "File Skipped due to error\n",
      "File Skipped due to error\n",
      "File Skipped due to error\n"
     ]
    },
    {
     "name": "stderr",
     "output_type": "stream",
     "text": [
      "libpng warning: iCCP: known incorrect sRGB profile\n",
      "libpng warning: iCCP: cHRM chunk does not match sRGB\n",
      "libpng warning: iCCP: known incorrect sRGB profile\n",
      "libpng warning: iCCP: cHRM chunk does not match sRGB\n"
     ]
    },
    {
     "name": "stdout",
     "output_type": "stream",
     "text": [
      "File Skipped due to error\n",
      "File Skipped due to error\n"
     ]
    },
    {
     "name": "stderr",
     "output_type": "stream",
     "text": [
      "libpng warning: iCCP: known incorrect sRGB profile\n",
      "libpng warning: iCCP: cHRM chunk does not match sRGB\n",
      "libpng warning: iCCP: known incorrect sRGB profile\n",
      "libpng warning: iCCP: cHRM chunk does not match sRGB\n"
     ]
    },
    {
     "name": "stdout",
     "output_type": "stream",
     "text": [
      "File Skipped due to error\n",
      "File Skipped due to error\n"
     ]
    },
    {
     "name": "stderr",
     "output_type": "stream",
     "text": [
      "libpng warning: iCCP: known incorrect sRGB profile\n",
      "libpng warning: iCCP: cHRM chunk does not match sRGB\n"
     ]
    },
    {
     "name": "stdout",
     "output_type": "stream",
     "text": [
      "File Skipped due to error\n"
     ]
    },
    {
     "name": "stderr",
     "output_type": "stream",
     "text": [
      "libpng warning: iCCP: known incorrect sRGB profile\n",
      "libpng warning: iCCP: cHRM chunk does not match sRGB\n",
      "libpng warning: iCCP: known incorrect sRGB profile\n",
      "libpng warning: iCCP: cHRM chunk does not match sRGB\n"
     ]
    },
    {
     "name": "stdout",
     "output_type": "stream",
     "text": [
      "File Skipped due to error\n",
      "File Skipped due to error\n"
     ]
    },
    {
     "name": "stderr",
     "output_type": "stream",
     "text": [
      "libpng warning: iCCP: known incorrect sRGB profile\n",
      "libpng warning: iCCP: cHRM chunk does not match sRGB\n",
      "libpng warning: iCCP: known incorrect sRGB profile\n",
      "libpng warning: iCCP: cHRM chunk does not match sRGB\n"
     ]
    },
    {
     "name": "stdout",
     "output_type": "stream",
     "text": [
      "File Skipped due to error\n",
      "File Skipped due to error\n"
     ]
    },
    {
     "name": "stderr",
     "output_type": "stream",
     "text": [
      "libpng warning: iCCP: known incorrect sRGB profile\n",
      "libpng warning: iCCP: cHRM chunk does not match sRGB\n",
      "libpng warning: iCCP: known incorrect sRGB profile\n",
      "libpng warning: iCCP: cHRM chunk does not match sRGB\n"
     ]
    },
    {
     "name": "stdout",
     "output_type": "stream",
     "text": [
      "File Skipped due to error\n",
      "File Skipped due to error\n"
     ]
    },
    {
     "name": "stderr",
     "output_type": "stream",
     "text": [
      "libpng warning: iCCP: known incorrect sRGB profile\n",
      "libpng warning: iCCP: cHRM chunk does not match sRGB\n",
      "libpng warning: iCCP: known incorrect sRGB profile\n",
      "libpng warning: iCCP: cHRM chunk does not match sRGB\n"
     ]
    },
    {
     "name": "stdout",
     "output_type": "stream",
     "text": [
      "File Skipped due to error\n",
      "File Skipped due to error\n"
     ]
    },
    {
     "name": "stderr",
     "output_type": "stream",
     "text": [
      "libpng warning: iCCP: known incorrect sRGB profile\n",
      "libpng warning: iCCP: cHRM chunk does not match sRGB\n"
     ]
    },
    {
     "name": "stdout",
     "output_type": "stream",
     "text": [
      "File Skipped due to error\n",
      "total images 6796\n",
      "132\n"
     ]
    },
    {
     "name": "stderr",
     "output_type": "stream",
     "text": [
      "libpng warning: iCCP: known incorrect sRGB profile\n"
     ]
    },
    {
     "name": "stdout",
     "output_type": "stream",
     "text": [
      "total images 6804\n",
      "133\n",
      "total images 6804\n",
      "134\n",
      "total images 6804\n",
      "135\n",
      "total images 6804\n",
      "136\n",
      "total images 6813\n",
      "137\n",
      "total images 6813\n",
      "138\n",
      "total images 6818\n",
      "139\n",
      "total images 6822\n",
      "140\n",
      "total images 6823\n",
      "141\n",
      "total images 6823\n",
      "142\n",
      "total images 6823\n",
      "143\n",
      "total images 6823\n",
      "144\n",
      "total images 6823\n",
      "145\n",
      "total images 6823\n",
      "146\n",
      "total images 6823\n",
      "147\n",
      "total images 6823\n",
      "148\n",
      "total images 6823\n",
      "149\n",
      "total images 6823\n",
      "150\n",
      "total images 6823\n",
      "151\n",
      "total images 6823\n",
      "152\n",
      "total images 6823\n",
      "153\n",
      "total images 6823\n",
      "154\n",
      "total images 6823\n",
      "155\n",
      "total images 6823\n",
      "156\n",
      "total images 6823\n",
      "157\n",
      "total images 6823\n",
      "158\n",
      "total images 6823\n",
      "159\n",
      "total images 6823\n",
      "160\n",
      "total images 6823\n",
      "161\n",
      "total images 6823\n",
      "162\n",
      "total images 6823\n",
      "163\n",
      "total images 6823\n",
      "164\n",
      "total images 6823\n",
      "165\n",
      "total images 6823\n",
      "166\n",
      "total images 6823\n",
      "167\n",
      "total images 6823\n",
      "168\n",
      "total images 6823\n",
      "169\n",
      "total images 6823\n",
      "170\n",
      "total images 6823\n",
      "171\n",
      "total images 6823\n",
      "172\n",
      "total images 6823\n",
      "173\n",
      "total images 6823\n",
      "174\n",
      "total images 6823\n",
      "175\n",
      "total images 6823\n",
      "176\n",
      "total images 6823\n",
      "177\n",
      "total images 6823\n",
      "178\n",
      "total images 6823\n",
      "179\n",
      "total images 6823\n",
      "180\n",
      "total images 6838\n",
      "181\n",
      "total images 6853\n",
      "182\n",
      "total images 6857\n",
      "183\n",
      "total images 6893\n",
      "184\n",
      "File Skipped due to error\n",
      "total images 6901\n",
      "185\n",
      "total images 6901\n",
      "186\n",
      "File Skipped due to error\n",
      "File Skipped due to error\n",
      "File Skipped due to error\n",
      "File Skipped due to error\n",
      "total images 6934\n",
      "187\n",
      "total images 6942\n",
      "188\n",
      "total images 6945\n",
      "189\n",
      "total images 6952\n",
      "190\n",
      "total images 6952\n",
      "191\n"
     ]
    },
    {
     "name": "stderr",
     "output_type": "stream",
     "text": [
      "libpng warning: iCCP: known incorrect sRGB profile\n",
      "libpng warning: iCCP: cHRM chunk does not match sRGB\n"
     ]
    },
    {
     "name": "stdout",
     "output_type": "stream",
     "text": [
      "File Skipped due to error\n",
      "total images 7036\n",
      "192\n",
      "total images 7052\n",
      "193\n",
      "total images 7060\n",
      "194\n"
     ]
    },
    {
     "name": "stderr",
     "output_type": "stream",
     "text": [
      "libpng warning: iCCP: known incorrect sRGB profile\n",
      "libpng warning: iCCP: cHRM chunk does not match sRGB\n"
     ]
    },
    {
     "name": "stdout",
     "output_type": "stream",
     "text": [
      "File Skipped due to error\n",
      "total images 7193\n",
      "195\n",
      "total images 7195\n",
      "196\n",
      "File Skipped due to error\n",
      "total images 7236\n",
      "197\n",
      "total images 7489\n",
      "198\n"
     ]
    }
   ],
   "source": [
    "bucket = 'agd-000001-grpdrv-poc'\n",
    "\n",
    "main(bucket)"
   ]
  },
  {
   "cell_type": "code",
   "execution_count": null,
   "id": "eabb2988-e21f-4fa3-becd-7a859bbf5921",
   "metadata": {},
   "outputs": [],
   "source": [
    "print('done')"
   ]
  },
  {
   "cell_type": "code",
   "execution_count": null,
   "id": "31360bc9-9a14-4bb5-aeb4-5a1350659e9d",
   "metadata": {},
   "outputs": [],
   "source": []
  }
 ],
 "metadata": {
  "instance_type": "ml.t3.medium",
  "kernelspec": {
   "display_name": "Python 3 (Base Python 3.0)",
   "language": "python",
   "name": "python3__SAGEMAKER_INTERNAL__arn:aws:sagemaker:ap-southeast-2:452832661640:image/sagemaker-base-python-310-v1"
  },
  "language_info": {
   "codemirror_mode": {
    "name": "ipython",
    "version": 3
   },
   "file_extension": ".py",
   "mimetype": "text/x-python",
   "name": "python",
   "nbconvert_exporter": "python",
   "pygments_lexer": "ipython3",
   "version": "3.10.8"
  },
  "lcc_arn": "arn:aws:sagemaker:ap-southeast-2:431551217392:studio-lifecycle-config/kernalsetup"
 },
 "nbformat": 4,
 "nbformat_minor": 5
}
