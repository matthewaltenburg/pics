{
 "cells": [
  {
   "cell_type": "markdown",
   "id": "22684b3b-9ec2-4b32-945f-7da4e1f07d82",
   "metadata": {},
   "source": [
    "# Overview\n",
    "The following notebook will import data from AWS S3, look for images (PNG and JPEG) then attempt to label the images for analysis\n",
    "The notebook requires access to \n",
    "* AWS S3\n",
    "* AWS Rekognition\n"
   ]
  },
  {
   "cell_type": "markdown",
   "id": "03c6d2b0-e769-4ef0-977e-c0f872d4711b",
   "metadata": {
    "tags": []
   },
   "source": [
    "## Imports"
   ]
  },
  {
   "cell_type": "code",
   "execution_count": 4,
   "id": "86abdab1-e84f-4179-b888-c05450bbbafc",
   "metadata": {
    "tags": []
   },
   "outputs": [],
   "source": [
    "import base64\n",
    "import csv\n",
    "import io\n",
    "import json\n",
    "import os\n",
    "import pathlib\n",
    "from io import BytesIO\n",
    "import cv2\n",
    "\n",
    "import boto3\n",
    "import numpy as np\n",
    "import pandas as pd\n",
    "import requests\n",
    "from IPython.display import HTML, display"
   ]
  },
  {
   "cell_type": "markdown",
   "id": "27dc79a4-3c68-41ed-8ffd-4b8716755b35",
   "metadata": {
    "tags": []
   },
   "source": [
    "## Main Function"
   ]
  },
  {
   "cell_type": "code",
   "execution_count": 5,
   "id": "a85e34fa-f7a9-4b27-b805-3740ba356dbf",
   "metadata": {
    "tags": []
   },
   "outputs": [],
   "source": [
    "def main(bucket):\n",
    "    s3 = boto3.client(\"s3\")\n",
    "    paginator = s3.get_paginator(\"list_objects_v2\")\n",
    "    pages = paginator.paginate(Bucket=bucket, Prefix=\"\")\n",
    "\n",
    "    # with open(\"main.csv\", \"a\", newline=\"\") as myfile:\n",
    "    #     writer = csv.writer(myfile)\n",
    "        \n",
    "    # Loop thour all pages\n",
    "    total = 0\n",
    "    for j, page in enumerate(pages):\n",
    "        print(j)\n",
    "        for obj in page[\"Contents\"]:\n",
    "            try:\n",
    "                with open(\"main.csv\", \"a\", newline=\"\") as myfile:\n",
    "                    writer = csv.writer(myfile)\n",
    "\n",
    "                    file_extension = pathlib.Path(obj[\"Key\"]).suffix\n",
    "                    if file_extension.casefold() == \".jpeg\" or file_extension.casefold() == \".png\":\n",
    "                        total += 1\n",
    "                        \n",
    "                        base64 = getbase64(obj[\"Key\"], bucket)\n",
    "                        \n",
    "                        list = [obj[\"Key\"], obj[\"ETag\"], base64]\n",
    "                        \n",
    "                        response = detect_labels(obj[\"Key\"], bucket)\n",
    "                        for i, label in enumerate(response[\"Labels\"]):\n",
    "                            if (i <=4):\n",
    "                                list.append(label[\"Name\"])\n",
    "                                list.append(label[\"Confidence\"])\n",
    "                        writer.writerow(list)\n",
    "            except:\n",
    "                print(\"File Skipped due to error\")\n",
    "        print(f'total images {total}')"
   ]
  },
  {
   "cell_type": "markdown",
   "id": "95e071b6-8043-417f-9ae1-009b75576333",
   "metadata": {
    "tags": []
   },
   "source": [
    "## Create Function to Tag Images"
   ]
  },
  {
   "cell_type": "code",
   "execution_count": 6,
   "id": "95cfca21-43d8-47c0-8e79-824c9d5b1624",
   "metadata": {
    "tags": []
   },
   "outputs": [],
   "source": [
    "def detect_labels(photo, bucket):\n",
    "\n",
    "    client = boto3.client(\"rekognition\")\n",
    "\n",
    "    response = client.detect_labels(\n",
    "        Image={\"S3Object\": {\"Bucket\": bucket, \"Name\": photo}}, MaxLabels=10\n",
    "    )\n",
    "\n",
    "#     print(\"Detected labels for \" + photo)\n",
    "#     print()\n",
    "#     for label in response[\"Labels\"]:\n",
    "#         print(\"Label: \" + label[\"Name\"])\n",
    "#         print(\"Confidence: \" + str(label[\"Confidence\"]))\n",
    "#         print(\"Instances:\")\n",
    "#         for instance in label[\"Instances\"]:\n",
    "#             print(\"  Bounding box\")\n",
    "#             print(\"    Top: \" + str(instance[\"BoundingBox\"][\"Top\"]))\n",
    "#             print(\"    Left: \" + str(instance[\"BoundingBox\"][\"Left\"]))\n",
    "#             print(\"    Width: \" + str(instance[\"BoundingBox\"][\"Width\"]))\n",
    "#             print(\"    Height: \" + str(instance[\"BoundingBox\"][\"Height\"]))\n",
    "#             print(\"  Confidence: \" + str(instance[\"Confidence\"]))\n",
    "#             print()\n",
    "\n",
    "#         print(\"Parents:\")\n",
    "#         for parent in label[\"Parents\"]:\n",
    "#             print(\"   \" + parent[\"Name\"])\n",
    "#         print(\"----------\")\n",
    "#         print()\n",
    "    return response"
   ]
  },
  {
   "cell_type": "markdown",
   "id": "d924ac72-4253-42a4-8157-8c8ec60bbb7c",
   "metadata": {
    "tags": []
   },
   "source": [
    "## Function to create Base64 strings from images"
   ]
  },
  {
   "cell_type": "code",
   "execution_count": 7,
   "id": "1f00c87e-3a1c-4102-9b40-faaca885a0a5",
   "metadata": {
    "tags": []
   },
   "outputs": [],
   "source": [
    "# bucket = 'agd-000001-grpdrv-poc'\n",
    "# obj = \"AA_Enduring Power of Attorney/Working Files/Attorney+General's+Department.png\"\n",
    "\n",
    "\n",
    "\n",
    "def getbase64(obj, bucket):\n",
    "    # import file\n",
    "    s3 = boto3.resource(\"s3\")\n",
    "    file = s3.Object(bucket, obj)\n",
    "    file = file.get()\n",
    "    data = file[\"Body\"].read()\n",
    "\n",
    "    # read and resize \n",
    "    img = cv2.imdecode(np.asarray(bytearray(data)), cv2.IMREAD_COLOR)\n",
    "    scale_percent = 10 # percent of original size\n",
    "    width = int(img.shape[1] * scale_percent / 100)\n",
    "    height = int(img.shape[0] * scale_percent / 100)\n",
    "    dim = (width, height)\n",
    "    img = cv2.resize(img, dim, interpolation = cv2.INTER_AREA)\n",
    "    \n",
    "    # to base64\n",
    "    _, buffer_img= cv2.imencode('.jpg', img)\n",
    "    b64 = str(base64.b64encode(buffer_img).decode(\"ascii\"))\n",
    "    \n",
    "    return b64\n",
    "\n",
    "\n",
    "\n",
    "# getbase64(obj, bucket)"
   ]
  },
  {
   "cell_type": "markdown",
   "id": "21d442c7-2574-489b-8e7b-6bb17983fbb0",
   "metadata": {},
   "source": [
    "## Run"
   ]
  },
  {
   "cell_type": "code",
   "execution_count": null,
   "id": "e10b9986-da4d-4d85-a6a9-e1da2f49e455",
   "metadata": {
    "tags": []
   },
   "outputs": [
    {
     "name": "stdout",
     "output_type": "stream",
     "text": [
      "0\n",
      "total images 11\n",
      "1\n",
      "File Skipped due to error\n",
      "File Skipped due to error\n",
      "File Skipped due to error\n"
     ]
    },
    {
     "name": "stderr",
     "output_type": "stream",
     "text": [
      "libpng warning: iCCP: known incorrect sRGB profile\n"
     ]
    },
    {
     "name": "stdout",
     "output_type": "stream",
     "text": [
      "total images 25\n",
      "2\n"
     ]
    },
    {
     "name": "stderr",
     "output_type": "stream",
     "text": [
      "libpng warning: iCCP: known incorrect sRGB profile\n",
      "libpng warning: iCCP: known incorrect sRGB profile\n"
     ]
    },
    {
     "name": "stdout",
     "output_type": "stream",
     "text": [
      "File Skipped due to error\n",
      "File Skipped due to error\n",
      "File Skipped due to error\n"
     ]
    },
    {
     "name": "stderr",
     "output_type": "stream",
     "text": [
      "libpng warning: iCCP: known incorrect sRGB profile\n",
      "libpng warning: iCCP: cHRM chunk does not match sRGB\n"
     ]
    },
    {
     "name": "stdout",
     "output_type": "stream",
     "text": [
      "File Skipped due to error\n",
      "File Skipped due to error\n",
      "File Skipped due to error\n",
      "File Skipped due to error\n"
     ]
    },
    {
     "name": "stderr",
     "output_type": "stream",
     "text": [
      "libpng warning: iCCP: known incorrect sRGB profile\n",
      "libpng warning: iCCP: known incorrect sRGB profile\n",
      "libpng warning: iCCP: known incorrect sRGB profile\n"
     ]
    },
    {
     "name": "stdout",
     "output_type": "stream",
     "text": [
      "File Skipped due to error\n",
      "File Skipped due to error\n",
      "File Skipped due to error\n",
      "File Skipped due to error\n",
      "File Skipped due to error\n",
      "File Skipped due to error\n"
     ]
    },
    {
     "name": "stderr",
     "output_type": "stream",
     "text": [
      "libpng warning: iCCP: known incorrect sRGB profile\n",
      "libpng warning: iCCP: known incorrect sRGB profile\n",
      "libpng warning: iCCP: known incorrect sRGB profile\n"
     ]
    },
    {
     "name": "stdout",
     "output_type": "stream",
     "text": [
      "File Skipped due to error\n",
      "File Skipped due to error\n",
      "File Skipped due to error\n",
      "File Skipped due to error\n",
      "File Skipped due to error\n",
      "File Skipped due to error\n",
      "File Skipped due to error\n",
      "File Skipped due to error\n",
      "File Skipped due to error\n",
      "File Skipped due to error\n",
      "File Skipped due to error\n",
      "File Skipped due to error\n",
      "File Skipped due to error\n",
      "File Skipped due to error\n",
      "File Skipped due to error\n",
      "File Skipped due to error\n",
      "File Skipped due to error\n"
     ]
    },
    {
     "name": "stderr",
     "output_type": "stream",
     "text": [
      "libpng warning: iCCP: known incorrect sRGB profile\n",
      "libpng warning: iCCP: known incorrect sRGB profile\n",
      "libpng warning: iCCP: known incorrect sRGB profile\n"
     ]
    },
    {
     "name": "stdout",
     "output_type": "stream",
     "text": [
      "File Skipped due to error\n",
      "File Skipped due to error\n",
      "total images 304\n",
      "3\n",
      "File Skipped due to error\n",
      "File Skipped due to error\n",
      "File Skipped due to error\n",
      "File Skipped due to error\n",
      "File Skipped due to error\n",
      "File Skipped due to error\n",
      "File Skipped due to error\n",
      "File Skipped due to error\n",
      "File Skipped due to error\n",
      "File Skipped due to error\n",
      "File Skipped due to error\n",
      "File Skipped due to error\n",
      "File Skipped due to error\n"
     ]
    }
   ],
   "source": [
    "bucket = 'agd-000001-grpdrv-poc'\n",
    "\n",
    "main(bucket)"
   ]
  },
  {
   "cell_type": "code",
   "execution_count": null,
   "id": "eabb2988-e21f-4fa3-becd-7a859bbf5921",
   "metadata": {},
   "outputs": [],
   "source": []
  },
  {
   "cell_type": "code",
   "execution_count": null,
   "id": "31360bc9-9a14-4bb5-aeb4-5a1350659e9d",
   "metadata": {},
   "outputs": [],
   "source": []
  }
 ],
 "metadata": {
  "instance_type": "ml.t3.medium",
  "kernelspec": {
   "display_name": "Python 3 (Base Python 3.0)",
   "language": "python",
   "name": "python3__SAGEMAKER_INTERNAL__arn:aws:sagemaker:ap-southeast-2:452832661640:image/sagemaker-base-python-310-v1"
  },
  "language_info": {
   "codemirror_mode": {
    "name": "ipython",
    "version": 3
   },
   "file_extension": ".py",
   "mimetype": "text/x-python",
   "name": "python",
   "nbconvert_exporter": "python",
   "pygments_lexer": "ipython3",
   "version": "3.10.8"
  },
  "lcc_arn": "arn:aws:sagemaker:ap-southeast-2:431551217392:studio-lifecycle-config/kernalsetup"
 },
 "nbformat": 4,
 "nbformat_minor": 5
}
